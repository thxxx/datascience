{
  "nbformat": 4,
  "nbformat_minor": 0,
  "metadata": {
    "colab": {
      "name": "MovieLens.ipynb",
      "provenance": [],
      "collapsed_sections": [],
      "authorship_tag": "ABX9TyMCakQcUEiYrsu7sKnDP93u",
      "include_colab_link": true
    },
    "kernelspec": {
      "name": "python3",
      "display_name": "Python 3"
    },
    "language_info": {
      "name": "python"
    }
  },
  "cells": [
    {
      "cell_type": "markdown",
      "metadata": {
        "id": "view-in-github",
        "colab_type": "text"
      },
      "source": [
        "<a href=\"https://colab.research.google.com/github/thxxx/datascience/blob/master/MovieLens.ipynb\" target=\"_parent\"><img src=\"https://colab.research.google.com/assets/colab-badge.svg\" alt=\"Open In Colab\"/></a>"
      ]
    },
    {
      "cell_type": "code",
      "metadata": {
        "id": "JFJxFRzDLPFz"
      },
      "source": [
        "import os\n",
        "import pandas as pd\n",
        "from matplotlib import pyplot as pyplot\n",
        "\n",
        "%matplotlib inline"
      ],
      "execution_count": 2,
      "outputs": []
    },
    {
      "cell_type": "code",
      "metadata": {
        "colab": {
          "base_uri": "https://localhost:8080/"
        },
        "id": "XQUw_pXHRL9g",
        "outputId": "44cb8948-f906-46cf-8f7b-659ec4479111"
      },
      "source": [
        "from google.colab import drive\n",
        "drive.mount('/content/drive')"
      ],
      "execution_count": 3,
      "outputs": [
        {
          "output_type": "stream",
          "text": [
            "Mounted at /content/drive\n"
          ],
          "name": "stdout"
        }
      ]
    },
    {
      "cell_type": "code",
      "metadata": {
        "colab": {
          "base_uri": "https://localhost:8080/"
        },
        "id": "hhUAq5yURRoU",
        "outputId": "17ae81f9-b346-46e0-ed46-f95d7de3b1ad"
      },
      "source": [
        "path = '/content/drive/My Drive/data/movielens/'\n",
        "os.listdir(path) # path에 뭐가 들어있는지 보여준다."
      ],
      "execution_count": 6,
      "outputs": [
        {
          "output_type": "execute_result",
          "data": {
            "text/plain": [
              "['ratings.csv', 'tags.csv', 'movies.csv', 'links.csv', 'README.txt']"
            ]
          },
          "metadata": {
            "tags": []
          },
          "execution_count": 6
        }
      ]
    },
    {
      "cell_type": "code",
      "metadata": {
        "id": "T2mRb-cnRjsR"
      },
      "source": [
        "ratings_df = pd.read_csv(os.path.join(path + 'ratings.csv'), encoding='utf-8')\n",
        "tags_df = pd.read_csv(os.path.join(path + 'tags.csv'), encoding='utf-8')\n",
        "movies_df = pd.read_csv(os.path.join(path + 'movies.csv'), index_col='movieId', encoding='utf-8')"
      ],
      "execution_count": 9,
      "outputs": []
    },
    {
      "cell_type": "code",
      "metadata": {
        "colab": {
          "base_uri": "https://localhost:8080/"
        },
        "id": "Y8yDn_WkR3-x",
        "outputId": "91a70dfc-d259-4404-e8f4-3e0ca94d5cf4"
      },
      "source": [
        "print(ratings_df.shape)\n",
        "print(ratings_df.head())\n",
        "# time stamp 는 리뷰를 매긴 시점이다."
      ],
      "execution_count": 12,
      "outputs": [
        {
          "output_type": "stream",
          "text": [
            "(100836, 4)\n",
            "   userId  movieId  rating  timestamp\n",
            "0       1        1     4.0  964982703\n",
            "1       1        3     4.0  964981247\n",
            "2       1        6     4.0  964982224\n",
            "3       1       47     5.0  964983815\n",
            "4       1       50     5.0  964982931\n"
          ],
          "name": "stdout"
        }
      ]
    },
    {
      "cell_type": "code",
      "metadata": {
        "colab": {
          "base_uri": "https://localhost:8080/"
        },
        "id": "4kbiDzmxSMll",
        "outputId": "de59da8e-da73-4f2f-9265-9a854ece933b"
      },
      "source": [
        "print(tags_df.shape)\n",
        "print(tags_df.head())\n",
        "# 유저가 영화에 준 태그"
      ],
      "execution_count": 13,
      "outputs": [
        {
          "output_type": "stream",
          "text": [
            "(3683, 4)\n",
            "   userId  movieId              tag   timestamp\n",
            "0       2    60756            funny  1445714994\n",
            "1       2    60756  Highly quotable  1445714996\n",
            "2       2    60756     will ferrell  1445714992\n",
            "3       2    89774     Boxing story  1445715207\n",
            "4       2    89774              MMA  1445715200\n"
          ],
          "name": "stdout"
        }
      ]
    },
    {
      "cell_type": "code",
      "metadata": {
        "colab": {
          "base_uri": "https://localhost:8080/"
        },
        "id": "rky3XL-kSWkY",
        "outputId": "eb895a65-d60c-4a5c-ef9d-a887bf4911c2"
      },
      "source": [
        "print(movies_df.shape)\n",
        "print(movies_df.head())\n",
        "# 영화에 대한 메타 정보"
      ],
      "execution_count": 15,
      "outputs": [
        {
          "output_type": "stream",
          "text": [
            "(9742, 2)\n",
            "                                      title                                       genres\n",
            "movieId                                                                                 \n",
            "1                          Toy Story (1995)  Adventure|Animation|Children|Comedy|Fantasy\n",
            "2                            Jumanji (1995)                   Adventure|Children|Fantasy\n",
            "3                   Grumpier Old Men (1995)                               Comedy|Romance\n",
            "4                  Waiting to Exhale (1995)                         Comedy|Drama|Romance\n",
            "5        Father of the Bride Part II (1995)                                       Comedy\n"
          ],
          "name": "stdout"
        }
      ]
    },
    {
      "cell_type": "code",
      "metadata": {
        "colab": {
          "base_uri": "https://localhost:8080/"
        },
        "id": "-wPzjRnzSzBO",
        "outputId": "204db9d8-60bb-4339-c8b6-ce17d8b282ea"
      },
      "source": [
        "# 평점 데이터에 어떻게 평점을 내렸고 분포가 어떻게 되는지 기초 통계량을 살펴보자.\n",
        "n_unique_users = len(ratings_df['userId'].unique()) # unique값은 중복을 없애고 몇명의 유저인지 보게해준다.\n",
        "print(n_unique_users)"
      ],
      "execution_count": 16,
      "outputs": [
        {
          "output_type": "stream",
          "text": [
            "610\n"
          ],
          "name": "stdout"
        }
      ]
    },
    {
      "cell_type": "code",
      "metadata": {
        "colab": {
          "base_uri": "https://localhost:8080/"
        },
        "id": "jJXzYu4TTOfN",
        "outputId": "1aba6a00-4a95-4571-f613-4508ce1a12e9"
      },
      "source": [
        "n_unique_movies = len(ratings_df['movieId'].unique())\n",
        "print(n_unique_movies)"
      ],
      "execution_count": 17,
      "outputs": [
        {
          "output_type": "stream",
          "text": [
            "9724\n"
          ],
          "name": "stdout"
        }
      ]
    },
    {
      "cell_type": "code",
      "metadata": {
        "colab": {
          "base_uri": "https://localhost:8080/"
        },
        "id": "Wr0nMt4iTVMs",
        "outputId": "2c090be6-bd74-4e63-e5f3-085b208949d6"
      },
      "source": [
        "# 내장 함수를 사용해서 값을 구한다.\n",
        "print('평점의 평균: ', ratings_df['rating'].mean())\n",
        "print('평점의 표준편차: ', ratings_df['rating'].std())"
      ],
      "execution_count": 18,
      "outputs": [
        {
          "output_type": "stream",
          "text": [
            "평점의 평균:  3.501556983616962\n",
            "평점의 표준편차:  1.0425292390605359\n"
          ],
          "name": "stdout"
        }
      ]
    },
    {
      "cell_type": "code",
      "metadata": {
        "colab": {
          "base_uri": "https://localhost:8080/"
        },
        "id": "QWV4L3kwTdRv",
        "outputId": "d656f413-4ae5-4f5b-e486-33c30783c5cf"
      },
      "source": [
        "ratings_df.info()\n",
        "# 데이터 타입, 널값 개수를 알려준다.\n",
        "# 널값 처리도 데이터 전처리 과정에서 고민해봐야하는 부분임."
      ],
      "execution_count": 21,
      "outputs": [
        {
          "output_type": "stream",
          "text": [
            "<class 'pandas.core.frame.DataFrame'>\n",
            "RangeIndex: 100836 entries, 0 to 100835\n",
            "Data columns (total 4 columns):\n",
            " #   Column     Non-Null Count   Dtype  \n",
            "---  ------     --------------   -----  \n",
            " 0   userId     100836 non-null  int64  \n",
            " 1   movieId    100836 non-null  int64  \n",
            " 2   rating     100836 non-null  float64\n",
            " 3   timestamp  100836 non-null  int64  \n",
            "dtypes: float64(1), int64(3)\n",
            "memory usage: 3.1 MB\n"
          ],
          "name": "stdout"
        }
      ]
    },
    {
      "cell_type": "code",
      "metadata": {
        "colab": {
          "base_uri": "https://localhost:8080/",
          "height": 297
        },
        "id": "KZybrGCJTnKV",
        "outputId": "2aaef9b5-7595-413d-d5d8-5f8e52170fa5"
      },
      "source": [
        "ratings_df.describe()"
      ],
      "execution_count": 22,
      "outputs": [
        {
          "output_type": "execute_result",
          "data": {
            "text/html": [
              "<div>\n",
              "<style scoped>\n",
              "    .dataframe tbody tr th:only-of-type {\n",
              "        vertical-align: middle;\n",
              "    }\n",
              "\n",
              "    .dataframe tbody tr th {\n",
              "        vertical-align: top;\n",
              "    }\n",
              "\n",
              "    .dataframe thead th {\n",
              "        text-align: right;\n",
              "    }\n",
              "</style>\n",
              "<table border=\"1\" class=\"dataframe\">\n",
              "  <thead>\n",
              "    <tr style=\"text-align: right;\">\n",
              "      <th></th>\n",
              "      <th>userId</th>\n",
              "      <th>movieId</th>\n",
              "      <th>rating</th>\n",
              "      <th>timestamp</th>\n",
              "    </tr>\n",
              "  </thead>\n",
              "  <tbody>\n",
              "    <tr>\n",
              "      <th>count</th>\n",
              "      <td>100836.000000</td>\n",
              "      <td>100836.000000</td>\n",
              "      <td>100836.000000</td>\n",
              "      <td>1.008360e+05</td>\n",
              "    </tr>\n",
              "    <tr>\n",
              "      <th>mean</th>\n",
              "      <td>326.127564</td>\n",
              "      <td>19435.295718</td>\n",
              "      <td>3.501557</td>\n",
              "      <td>1.205946e+09</td>\n",
              "    </tr>\n",
              "    <tr>\n",
              "      <th>std</th>\n",
              "      <td>182.618491</td>\n",
              "      <td>35530.987199</td>\n",
              "      <td>1.042529</td>\n",
              "      <td>2.162610e+08</td>\n",
              "    </tr>\n",
              "    <tr>\n",
              "      <th>min</th>\n",
              "      <td>1.000000</td>\n",
              "      <td>1.000000</td>\n",
              "      <td>0.500000</td>\n",
              "      <td>8.281246e+08</td>\n",
              "    </tr>\n",
              "    <tr>\n",
              "      <th>25%</th>\n",
              "      <td>177.000000</td>\n",
              "      <td>1199.000000</td>\n",
              "      <td>3.000000</td>\n",
              "      <td>1.019124e+09</td>\n",
              "    </tr>\n",
              "    <tr>\n",
              "      <th>50%</th>\n",
              "      <td>325.000000</td>\n",
              "      <td>2991.000000</td>\n",
              "      <td>3.500000</td>\n",
              "      <td>1.186087e+09</td>\n",
              "    </tr>\n",
              "    <tr>\n",
              "      <th>75%</th>\n",
              "      <td>477.000000</td>\n",
              "      <td>8122.000000</td>\n",
              "      <td>4.000000</td>\n",
              "      <td>1.435994e+09</td>\n",
              "    </tr>\n",
              "    <tr>\n",
              "      <th>max</th>\n",
              "      <td>610.000000</td>\n",
              "      <td>193609.000000</td>\n",
              "      <td>5.000000</td>\n",
              "      <td>1.537799e+09</td>\n",
              "    </tr>\n",
              "  </tbody>\n",
              "</table>\n",
              "</div>"
            ],
            "text/plain": [
              "              userId        movieId         rating     timestamp\n",
              "count  100836.000000  100836.000000  100836.000000  1.008360e+05\n",
              "mean      326.127564   19435.295718       3.501557  1.205946e+09\n",
              "std       182.618491   35530.987199       1.042529  2.162610e+08\n",
              "min         1.000000       1.000000       0.500000  8.281246e+08\n",
              "25%       177.000000    1199.000000       3.000000  1.019124e+09\n",
              "50%       325.000000    2991.000000       3.500000  1.186087e+09\n",
              "75%       477.000000    8122.000000       4.000000  1.435994e+09\n",
              "max       610.000000  193609.000000       5.000000  1.537799e+09"
            ]
          },
          "metadata": {
            "tags": []
          },
          "execution_count": 22
        }
      ]
    },
    {
      "cell_type": "code",
      "metadata": {
        "colab": {
          "base_uri": "https://localhost:8080/"
        },
        "id": "wWuX3OTjTwDp",
        "outputId": "aa23a718-fafe-43d4-fb7b-c670e9c87cf5"
      },
      "source": [
        "# null 값이 있는지 확인한다.\n",
        "ratings_df.isnull().sum()"
      ],
      "execution_count": 23,
      "outputs": [
        {
          "output_type": "execute_result",
          "data": {
            "text/plain": [
              "userId       0\n",
              "movieId      0\n",
              "rating       0\n",
              "timestamp    0\n",
              "dtype: int64"
            ]
          },
          "metadata": {
            "tags": []
          },
          "execution_count": 23
        }
      ]
    },
    {
      "cell_type": "code",
      "metadata": {
        "colab": {
          "base_uri": "https://localhost:8080/",
          "height": 386
        },
        "id": "ttK9EYQ0UAyp",
        "outputId": "e67cbfde-24a8-4c9e-8705-9e324c15bb71"
      },
      "source": [
        "# 히스토그램 그려서 확인하기\n",
        "ratings_df[['userId','movieId','rating']].hist()"
      ],
      "execution_count": 24,
      "outputs": [
        {
          "output_type": "execute_result",
          "data": {
            "text/plain": [
              "array([[<matplotlib.axes._subplots.AxesSubplot object at 0x7f7b7dbd1bd0>,\n",
              "        <matplotlib.axes._subplots.AxesSubplot object at 0x7f7b7dae7bd0>],\n",
              "       [<matplotlib.axes._subplots.AxesSubplot object at 0x7f7b7daab290>,\n",
              "        <matplotlib.axes._subplots.AxesSubplot object at 0x7f7b7da60910>]],\n",
              "      dtype=object)"
            ]
          },
          "metadata": {
            "tags": []
          },
          "execution_count": 24
        },
        {
          "output_type": "display_data",
          "data": {
            "image/png": "[encoded data removed]",
            "text/plain": [
              "<Figure size 432x288 with 4 Axes>"
            ]
          },
          "metadata": {
            "tags": [],
            "needs_background": "light"
          }
        }
      ]
    },
    {
      "cell_type": "code",
      "metadata": {
        "id": "pS3LMyL6UKGG"
      },
      "source": [
        "# 평점을 예측하고자 할 때 일반적으로 몇점을 주는지 성향을 확인하고 데이터 셋의 느낌을 확인해서\n",
        "# 제대로된 알고리즘인지 파악할 수 있다."
      ],
      "execution_count": 25,
      "outputs": []
    },
    {
      "cell_type": "code",
      "metadata": {
        "colab": {
          "base_uri": "https://localhost:8080/"
        },
        "id": "UeD9SimnUpzP",
        "outputId": "893952d6-aa43-4ba6-9714-407af54bea8c"
      },
      "source": [
        "print(ratings_df.groupby(['userId', 'rating']).size())\n",
        "# size()는 갯수 파악을 위해서 붙이나?"
      ],
      "execution_count": 29,
      "outputs": [
        {
          "output_type": "stream",
          "text": [
            "userId  rating\n",
            "1       1.0         1\n",
            "        2.0         5\n",
            "        3.0        26\n",
            "        4.0        76\n",
            "        5.0       124\n",
            "                 ... \n",
            "610     3.0       230\n",
            "        3.5       315\n",
            "        4.0       286\n",
            "        4.5       148\n",
            "        5.0       180\n",
            "Length: 3976, dtype: int64\n"
          ],
          "name": "stdout"
        }
      ]
    },
    {
      "cell_type": "markdown",
      "metadata": {
        "id": "NNwcbG65VHVn"
      },
      "source": [
        "\n",
        "\n",
        "---\n",
        "\n"
      ]
    },
    {
      "cell_type": "code",
      "metadata": {
        "colab": {
          "base_uri": "https://localhost:8080/",
          "height": 450
        },
        "id": "7p0pmp1GUu-p",
        "outputId": "c776e29b-d9b5-4a85-ae3a-cb47973a2782"
      },
      "source": [
        "ratings_df.groupby(['userId']).mean()\n",
        "# userId로 전부 묶어서 보여준다.\n",
        "# 데이터의 정보를 파악가능하다."
      ],
      "execution_count": 31,
      "outputs": [
        {
          "output_type": "execute_result",
          "data": {
            "text/html": [
              "<div>\n",
              "<style scoped>\n",
              "    .dataframe tbody tr th:only-of-type {\n",
              "        vertical-align: middle;\n",
              "    }\n",
              "\n",
              "    .dataframe tbody tr th {\n",
              "        vertical-align: top;\n",
              "    }\n",
              "\n",
              "    .dataframe thead th {\n",
              "        text-align: right;\n",
              "    }\n",
              "</style>\n",
              "<table border=\"1\" class=\"dataframe\">\n",
              "  <thead>\n",
              "    <tr style=\"text-align: right;\">\n",
              "      <th></th>\n",
              "      <th>movieId</th>\n",
              "      <th>rating</th>\n",
              "      <th>timestamp</th>\n",
              "    </tr>\n",
              "    <tr>\n",
              "      <th>userId</th>\n",
              "      <th></th>\n",
              "      <th></th>\n",
              "      <th></th>\n",
              "    </tr>\n",
              "  </thead>\n",
              "  <tbody>\n",
              "    <tr>\n",
              "      <th>1</th>\n",
              "      <td>1854.603448</td>\n",
              "      <td>4.366379</td>\n",
              "      <td>9.649856e+08</td>\n",
              "    </tr>\n",
              "    <tr>\n",
              "      <th>2</th>\n",
              "      <td>70350.275862</td>\n",
              "      <td>3.948276</td>\n",
              "      <td>1.445715e+09</td>\n",
              "    </tr>\n",
              "    <tr>\n",
              "      <th>3</th>\n",
              "      <td>7058.384615</td>\n",
              "      <td>2.435897</td>\n",
              "      <td>1.306464e+09</td>\n",
              "    </tr>\n",
              "    <tr>\n",
              "      <th>4</th>\n",
              "      <td>1982.129630</td>\n",
              "      <td>3.555556</td>\n",
              "      <td>9.658643e+08</td>\n",
              "    </tr>\n",
              "    <tr>\n",
              "      <th>5</th>\n",
              "      <td>343.840909</td>\n",
              "      <td>3.636364</td>\n",
              "      <td>8.474351e+08</td>\n",
              "    </tr>\n",
              "    <tr>\n",
              "      <th>...</th>\n",
              "      <td>...</td>\n",
              "      <td>...</td>\n",
              "      <td>...</td>\n",
              "    </tr>\n",
              "    <tr>\n",
              "      <th>606</th>\n",
              "      <td>9692.197309</td>\n",
              "      <td>3.657399</td>\n",
              "      <td>1.179512e+09</td>\n",
              "    </tr>\n",
              "    <tr>\n",
              "      <th>607</th>\n",
              "      <td>1860.636364</td>\n",
              "      <td>3.786096</td>\n",
              "      <td>9.647841e+08</td>\n",
              "    </tr>\n",
              "    <tr>\n",
              "      <th>608</th>\n",
              "      <td>4502.605295</td>\n",
              "      <td>3.134176</td>\n",
              "      <td>1.122668e+09</td>\n",
              "    </tr>\n",
              "    <tr>\n",
              "      <th>609</th>\n",
              "      <td>483.162162</td>\n",
              "      <td>3.270270</td>\n",
              "      <td>8.472210e+08</td>\n",
              "    </tr>\n",
              "    <tr>\n",
              "      <th>610</th>\n",
              "      <td>49590.231183</td>\n",
              "      <td>3.688556</td>\n",
              "      <td>1.489454e+09</td>\n",
              "    </tr>\n",
              "  </tbody>\n",
              "</table>\n",
              "<p>610 rows × 3 columns</p>\n",
              "</div>"
            ],
            "text/plain": [
              "             movieId    rating     timestamp\n",
              "userId                                      \n",
              "1        1854.603448  4.366379  9.649856e+08\n",
              "2       70350.275862  3.948276  1.445715e+09\n",
              "3        7058.384615  2.435897  1.306464e+09\n",
              "4        1982.129630  3.555556  9.658643e+08\n",
              "5         343.840909  3.636364  8.474351e+08\n",
              "...              ...       ...           ...\n",
              "606      9692.197309  3.657399  1.179512e+09\n",
              "607      1860.636364  3.786096  9.647841e+08\n",
              "608      4502.605295  3.134176  1.122668e+09\n",
              "609       483.162162  3.270270  8.472210e+08\n",
              "610     49590.231183  3.688556  1.489454e+09\n",
              "\n",
              "[610 rows x 3 columns]"
            ]
          },
          "metadata": {
            "tags": []
          },
          "execution_count": 31
        }
      ]
    },
    {
      "cell_type": "code",
      "metadata": {
        "colab": {
          "base_uri": "https://localhost:8080/",
          "height": 359
        },
        "id": "cviBlGTvU-y8",
        "outputId": "9ea852e5-f418-4b9b-aa42-dc15814d42d5"
      },
      "source": [
        "userid_rating_df = pd.DataFrame({'count':ratings_df.groupby(['userId', 'rating']).size()})\n",
        "userid_rating_df = userid_rating_df.reset_index()\n",
        "userid_rating_df.head(10)\n",
        "# 위에서 확인한 유저가 평점 몇에 몇개를 줬는지는 새로운 데이터 프레임을 정의한 후 확인하는 과정."
      ],
      "execution_count": 34,
      "outputs": [
        {
          "output_type": "execute_result",
          "data": {
            "text/html": [
              "<div>\n",
              "<style scoped>\n",
              "    .dataframe tbody tr th:only-of-type {\n",
              "        vertical-align: middle;\n",
              "    }\n",
              "\n",
              "    .dataframe tbody tr th {\n",
              "        vertical-align: top;\n",
              "    }\n",
              "\n",
              "    .dataframe thead th {\n",
              "        text-align: right;\n",
              "    }\n",
              "</style>\n",
              "<table border=\"1\" class=\"dataframe\">\n",
              "  <thead>\n",
              "    <tr style=\"text-align: right;\">\n",
              "      <th></th>\n",
              "      <th>userId</th>\n",
              "      <th>rating</th>\n",
              "      <th>count</th>\n",
              "    </tr>\n",
              "  </thead>\n",
              "  <tbody>\n",
              "    <tr>\n",
              "      <th>0</th>\n",
              "      <td>1</td>\n",
              "      <td>1.0</td>\n",
              "      <td>1</td>\n",
              "    </tr>\n",
              "    <tr>\n",
              "      <th>1</th>\n",
              "      <td>1</td>\n",
              "      <td>2.0</td>\n",
              "      <td>5</td>\n",
              "    </tr>\n",
              "    <tr>\n",
              "      <th>2</th>\n",
              "      <td>1</td>\n",
              "      <td>3.0</td>\n",
              "      <td>26</td>\n",
              "    </tr>\n",
              "    <tr>\n",
              "      <th>3</th>\n",
              "      <td>1</td>\n",
              "      <td>4.0</td>\n",
              "      <td>76</td>\n",
              "    </tr>\n",
              "    <tr>\n",
              "      <th>4</th>\n",
              "      <td>1</td>\n",
              "      <td>5.0</td>\n",
              "      <td>124</td>\n",
              "    </tr>\n",
              "    <tr>\n",
              "      <th>5</th>\n",
              "      <td>2</td>\n",
              "      <td>2.0</td>\n",
              "      <td>1</td>\n",
              "    </tr>\n",
              "    <tr>\n",
              "      <th>6</th>\n",
              "      <td>2</td>\n",
              "      <td>2.5</td>\n",
              "      <td>1</td>\n",
              "    </tr>\n",
              "    <tr>\n",
              "      <th>7</th>\n",
              "      <td>2</td>\n",
              "      <td>3.0</td>\n",
              "      <td>4</td>\n",
              "    </tr>\n",
              "    <tr>\n",
              "      <th>8</th>\n",
              "      <td>2</td>\n",
              "      <td>3.5</td>\n",
              "      <td>4</td>\n",
              "    </tr>\n",
              "    <tr>\n",
              "      <th>9</th>\n",
              "      <td>2</td>\n",
              "      <td>4.0</td>\n",
              "      <td>9</td>\n",
              "    </tr>\n",
              "  </tbody>\n",
              "</table>\n",
              "</div>"
            ],
            "text/plain": [
              "   userId  rating  count\n",
              "0       1     1.0      1\n",
              "1       1     2.0      5\n",
              "2       1     3.0     26\n",
              "3       1     4.0     76\n",
              "4       1     5.0    124\n",
              "5       2     2.0      1\n",
              "6       2     2.5      1\n",
              "7       2     3.0      4\n",
              "8       2     3.5      4\n",
              "9       2     4.0      9"
            ]
          },
          "metadata": {
            "tags": []
          },
          "execution_count": 34
        }
      ]
    },
    {
      "cell_type": "code",
      "metadata": {
        "colab": {
          "base_uri": "https://localhost:8080/"
        },
        "id": "G_sIp7gyWVlu",
        "outputId": "1e6e690b-58d7-47a8-83e6-51ccf2d785c4"
      },
      "source": [
        "ratings_df.groupby('userId')['movieId'].count()"
      ],
      "execution_count": 37,
      "outputs": [
        {
          "output_type": "execute_result",
          "data": {
            "text/plain": [
              "userId\n",
              "1       232\n",
              "2        29\n",
              "3        39\n",
              "4       216\n",
              "5        44\n",
              "       ... \n",
              "606    1115\n",
              "607     187\n",
              "608     831\n",
              "609      37\n",
              "610    1302\n",
              "Name: movieId, Length: 610, dtype: int64"
            ]
          },
          "metadata": {
            "tags": []
          },
          "execution_count": 37
        }
      ]
    },
    {
      "cell_type": "code",
      "metadata": {
        "id": "O4BlHWkuVw0P"
      },
      "source": [
        "user_info = ratings_df.groupby('userId')['movieId'].count()"
      ],
      "execution_count": 35,
      "outputs": []
    },
    {
      "cell_type": "code",
      "metadata": {
        "colab": {
          "base_uri": "https://localhost:8080/"
        },
        "id": "9uutpFvBWNsj",
        "outputId": "3fad67db-7976-484f-a290-6391dea27a7e"
      },
      "source": [
        "user_info.describe()\n",
        "# 특정유저가 유독 많은 영화를 매겼다면 bias가 생길 수 있으니 조심하면 좋음"
      ],
      "execution_count": 36,
      "outputs": [
        {
          "output_type": "execute_result",
          "data": {
            "text/plain": [
              "count     610.000000\n",
              "mean      165.304918\n",
              "std       269.480584\n",
              "min        20.000000\n",
              "25%        35.000000\n",
              "50%        70.500000\n",
              "75%       168.000000\n",
              "max      2698.000000\n",
              "Name: movieId, dtype: float64"
            ]
          },
          "metadata": {
            "tags": []
          },
          "execution_count": 36
        }
      ]
    },
    {
      "cell_type": "code",
      "metadata": {
        "id": "ALw6yNPFWPYt"
      },
      "source": [
        "import seaborn as sns\n",
        "# 시각화 패키지"
      ],
      "execution_count": 38,
      "outputs": []
    },
    {
      "cell_type": "code",
      "metadata": {
        "colab": {
          "base_uri": "https://localhost:8080/",
          "height": 386
        },
        "id": "8SIy_rHwWf50",
        "outputId": "e73b7c82-c579-44da-d900-35db2dee3e10"
      },
      "source": [
        "sns.displot(user_info.values)"
      ],
      "execution_count": 41,
      "outputs": [
        {
          "output_type": "execute_result",
          "data": {
            "text/plain": [
              "<seaborn.axisgrid.FacetGrid at 0x7f7b6e9a7950>"
            ]
          },
          "metadata": {
            "tags": []
          },
          "execution_count": 41
        },
        {
          "output_type": "display_data",
          "data": {
            "image/png": "[encoded data removed]",
            "text/plain": [
              "<Figure size 360x360 with 1 Axes>"
            ]
          },
          "metadata": {
            "tags": [],
            "needs_background": "light"
          }
        }
      ]
    },
    {
      "cell_type": "markdown",
      "metadata": {
        "id": "pNXqybihXWIK"
      },
      "source": [
        "유저가 평균적으로 준 평점과 평점을 준 영화의 수를 새로운 데이터 프레임으로 만들어서 보관"
      ]
    },
    {
      "cell_type": "code",
      "metadata": {
        "colab": {
          "base_uri": "https://localhost:8080/"
        },
        "id": "v56GqbR5Wi6U",
        "outputId": "55a3af1f-b98a-488d-c9d0-2581522fce30"
      },
      "source": [
        "stats_df = pd.DataFrame({\n",
        "    'movie_count':ratings_df.groupby('userId')['movieId'].count(),\n",
        "    'rating_avg':ratings_df.groupby('userId')['rating'].mean(),\n",
        "    'rating_std':ratings_df.groupby('userId')['rating'].std()\n",
        "})\n",
        "\n",
        "print(stats_df.shape)\n",
        "print(stats_df.head())"
      ],
      "execution_count": 43,
      "outputs": [
        {
          "output_type": "stream",
          "text": [
            "(610, 3)\n",
            "        movie_count  rating_avg  rating_std\n",
            "userId                                     \n",
            "1               232    4.366379    0.800048\n",
            "2                29    3.948276    0.805615\n",
            "3                39    2.435897    2.090642\n",
            "4               216    3.555556    1.314204\n",
            "5                44    3.636364    0.990441\n"
          ],
          "name": "stdout"
        }
      ]
    },
    {
      "cell_type": "markdown",
      "metadata": {
        "id": "QrM8G7m8XbVF"
      },
      "source": [
        "Rating이 많은 영화 즉, 사람들이 관심이 많은 영화 ( 좋다는건 아님 )"
      ]
    },
    {
      "cell_type": "code",
      "metadata": {
        "colab": {
          "base_uri": "https://localhost:8080/"
        },
        "id": "bBiMeoy0XRGC",
        "outputId": "00cd5692-1864-479f-823e-e38f18c5e1c3"
      },
      "source": [
        "movieid_user_df = pd.DataFrame({\n",
        "    'num_users_watch':ratings_df.groupby('movieId')['userId'].count(),\n",
        "    'avg_ratings':ratings_df.groupby('movieId')['rating'].mean(),\n",
        "    'std_ratings':ratings_df.groupby('movieId')['rating'].std()\n",
        "})\n",
        "movieid_user_df = movieid_user_df.reset_index() # 제일 첫 칼럼으로 index를 만든다.\n",
        "print(movieid_user_df.shape)\n",
        "print(movieid_user_df.head(10))"
      ],
      "execution_count": 47,
      "outputs": [
        {
          "output_type": "stream",
          "text": [
            "(9724, 4)\n",
            "   movieId  num_users_watch  avg_ratings  std_ratings\n",
            "0        1              215     3.920930     0.834859\n",
            "1        2              110     3.431818     0.881713\n",
            "2        3               52     3.259615     1.054823\n",
            "3        4                7     2.357143     0.852168\n",
            "4        5               49     3.071429     0.907148\n",
            "5        6              102     3.946078     0.817224\n",
            "6        7               54     3.185185     0.977561\n",
            "7        8                8     2.875000     1.125992\n",
            "8        9               16     3.125000     0.974679\n",
            "9       10              132     3.496212     0.859381\n"
          ],
          "name": "stdout"
        }
      ]
    },
    {
      "cell_type": "markdown",
      "metadata": {
        "id": "0_HKiu2uYEuw"
      },
      "source": [
        "표준편차가 작으면 대부분 평균근처의 점수를 줬다.\n",
        "그럼 가장 많이 매긴순서대로 정렬해서 몇점인지 확인하자!"
      ]
    },
    {
      "cell_type": "code",
      "metadata": {
        "colab": {
          "base_uri": "https://localhost:8080/",
          "height": 204
        },
        "id": "y5kUUPCpXwo1",
        "outputId": "0bb5aca0-2a24-4eb1-8e7e-be6a1527104b"
      },
      "source": [
        "movieid_user_df.sort_values(by='num_users_watch', ascending=False).head(5)"
      ],
      "execution_count": 51,
      "outputs": [
        {
          "output_type": "execute_result",
          "data": {
            "text/html": [
              "<div>\n",
              "<style scoped>\n",
              "    .dataframe tbody tr th:only-of-type {\n",
              "        vertical-align: middle;\n",
              "    }\n",
              "\n",
              "    .dataframe tbody tr th {\n",
              "        vertical-align: top;\n",
              "    }\n",
              "\n",
              "    .dataframe thead th {\n",
              "        text-align: right;\n",
              "    }\n",
              "</style>\n",
              "<table border=\"1\" class=\"dataframe\">\n",
              "  <thead>\n",
              "    <tr style=\"text-align: right;\">\n",
              "      <th></th>\n",
              "      <th>movieId</th>\n",
              "      <th>num_users_watch</th>\n",
              "      <th>avg_ratings</th>\n",
              "      <th>std_ratings</th>\n",
              "    </tr>\n",
              "  </thead>\n",
              "  <tbody>\n",
              "    <tr>\n",
              "      <th>314</th>\n",
              "      <td>356</td>\n",
              "      <td>329</td>\n",
              "      <td>4.164134</td>\n",
              "      <td>0.831244</td>\n",
              "    </tr>\n",
              "    <tr>\n",
              "      <th>277</th>\n",
              "      <td>318</td>\n",
              "      <td>317</td>\n",
              "      <td>4.429022</td>\n",
              "      <td>0.713019</td>\n",
              "    </tr>\n",
              "    <tr>\n",
              "      <th>257</th>\n",
              "      <td>296</td>\n",
              "      <td>307</td>\n",
              "      <td>4.197068</td>\n",
              "      <td>0.951997</td>\n",
              "    </tr>\n",
              "    <tr>\n",
              "      <th>510</th>\n",
              "      <td>593</td>\n",
              "      <td>279</td>\n",
              "      <td>4.161290</td>\n",
              "      <td>0.853983</td>\n",
              "    </tr>\n",
              "    <tr>\n",
              "      <th>1938</th>\n",
              "      <td>2571</td>\n",
              "      <td>278</td>\n",
              "      <td>4.192446</td>\n",
              "      <td>0.975243</td>\n",
              "    </tr>\n",
              "  </tbody>\n",
              "</table>\n",
              "</div>"
            ],
            "text/plain": [
              "      movieId  num_users_watch  avg_ratings  std_ratings\n",
              "314       356              329     4.164134     0.831244\n",
              "277       318              317     4.429022     0.713019\n",
              "257       296              307     4.197068     0.951997\n",
              "510       593              279     4.161290     0.853983\n",
              "1938     2571              278     4.192446     0.975243"
            ]
          },
          "metadata": {
            "tags": []
          },
          "execution_count": 51
        }
      ]
    },
    {
      "cell_type": "markdown",
      "metadata": {
        "id": "KcBBsY1EYapt"
      },
      "source": [
        "대충은 보이는데.. 평균평점이 높으니까\n",
        "별점을 준 유저가 1명이면 버릴건지 아닌지도 직접 판단해야되는 부분!"
      ]
    },
    {
      "cell_type": "code",
      "metadata": {
        "colab": {
          "base_uri": "https://localhost:8080/",
          "height": 282
        },
        "id": "8T-7SdKmX_Re",
        "outputId": "b2588d81-b5e2-4fef-bf68-37235d530612"
      },
      "source": [
        "movieid_user_df['num_users_watch'].hist()\n",
        "# 행렬화 했을 때 해당영화에 별점을 안준 유저가 많다 -> 듬성듬성하다 -> sparse하다"
      ],
      "execution_count": 53,
      "outputs": [
        {
          "output_type": "execute_result",
          "data": {
            "text/plain": [
              "<matplotlib.axes._subplots.AxesSubplot at 0x7f7b64beee10>"
            ]
          },
          "metadata": {
            "tags": []
          },
          "execution_count": 53
        },
        {
          "output_type": "display_data",
          "data": {
            "image/png": "[encoded data removed]",
            "text/plain": [
              "<Figure size 432x288 with 1 Axes>"
            ]
          },
          "metadata": {
            "tags": [],
            "needs_background": "light"
          }
        }
      ]
    },
    {
      "cell_type": "code",
      "metadata": {
        "colab": {
          "base_uri": "https://localhost:8080/"
        },
        "id": "sHcG-kX1Yo34",
        "outputId": "8e130ec8-5af0-4e06-983c-c805a83fde85"
      },
      "source": [
        "# 1명의 유저만 별점을 매긴 영화 수\n",
        "movieid_user_df['movieId'][movieid_user_df.num_users_watch==1].count()"
      ],
      "execution_count": 54,
      "outputs": [
        {
          "output_type": "execute_result",
          "data": {
            "text/plain": [
              "3446"
            ]
          },
          "metadata": {
            "tags": []
          },
          "execution_count": 54
        }
      ]
    },
    {
      "cell_type": "code",
      "metadata": {
        "colab": {
          "base_uri": "https://localhost:8080/"
        },
        "id": "JEElUgtlaq8S",
        "outputId": "11718350-525a-4b7d-b590-3dafa5cc0793"
      },
      "source": [
        "# 3번 미만의 영화\n",
        "movieid_user_df['movieId'][movieid_user_df.num_users_watch < 3].count()"
      ],
      "execution_count": 55,
      "outputs": [
        {
          "output_type": "execute_result",
          "data": {
            "text/plain": [
              "4744"
            ]
          },
          "metadata": {
            "tags": []
          },
          "execution_count": 55
        }
      ]
    },
    {
      "cell_type": "code",
      "metadata": {
        "colab": {
          "base_uri": "https://localhost:8080/",
          "height": 235
        },
        "id": "zF-0qfScavgk",
        "outputId": "4a81a392-c14c-4e09-9804-049e8721f3a6"
      },
      "source": [
        "movies_df.head()"
      ],
      "execution_count": 56,
      "outputs": [
        {
          "output_type": "execute_result",
          "data": {
            "text/html": [
              "<div>\n",
              "<style scoped>\n",
              "    .dataframe tbody tr th:only-of-type {\n",
              "        vertical-align: middle;\n",
              "    }\n",
              "\n",
              "    .dataframe tbody tr th {\n",
              "        vertical-align: top;\n",
              "    }\n",
              "\n",
              "    .dataframe thead th {\n",
              "        text-align: right;\n",
              "    }\n",
              "</style>\n",
              "<table border=\"1\" class=\"dataframe\">\n",
              "  <thead>\n",
              "    <tr style=\"text-align: right;\">\n",
              "      <th></th>\n",
              "      <th>title</th>\n",
              "      <th>genres</th>\n",
              "    </tr>\n",
              "    <tr>\n",
              "      <th>movieId</th>\n",
              "      <th></th>\n",
              "      <th></th>\n",
              "    </tr>\n",
              "  </thead>\n",
              "  <tbody>\n",
              "    <tr>\n",
              "      <th>1</th>\n",
              "      <td>Toy Story (1995)</td>\n",
              "      <td>Adventure|Animation|Children|Comedy|Fantasy</td>\n",
              "    </tr>\n",
              "    <tr>\n",
              "      <th>2</th>\n",
              "      <td>Jumanji (1995)</td>\n",
              "      <td>Adventure|Children|Fantasy</td>\n",
              "    </tr>\n",
              "    <tr>\n",
              "      <th>3</th>\n",
              "      <td>Grumpier Old Men (1995)</td>\n",
              "      <td>Comedy|Romance</td>\n",
              "    </tr>\n",
              "    <tr>\n",
              "      <th>4</th>\n",
              "      <td>Waiting to Exhale (1995)</td>\n",
              "      <td>Comedy|Drama|Romance</td>\n",
              "    </tr>\n",
              "    <tr>\n",
              "      <th>5</th>\n",
              "      <td>Father of the Bride Part II (1995)</td>\n",
              "      <td>Comedy</td>\n",
              "    </tr>\n",
              "  </tbody>\n",
              "</table>\n",
              "</div>"
            ],
            "text/plain": [
              "                                      title                                       genres\n",
              "movieId                                                                                 \n",
              "1                          Toy Story (1995)  Adventure|Animation|Children|Comedy|Fantasy\n",
              "2                            Jumanji (1995)                   Adventure|Children|Fantasy\n",
              "3                   Grumpier Old Men (1995)                               Comedy|Romance\n",
              "4                  Waiting to Exhale (1995)                         Comedy|Drama|Romance\n",
              "5        Father of the Bride Part II (1995)                                       Comedy"
            ]
          },
          "metadata": {
            "tags": []
          },
          "execution_count": 56
        }
      ]
    },
    {
      "cell_type": "code",
      "metadata": {
        "colab": {
          "base_uri": "https://localhost:8080/"
        },
        "id": "m0pYAwV8a1C6",
        "outputId": "eb622684-6e23-4a68-8f93-b253f0dc370e"
      },
      "source": [
        "# 무비아이디를 기준으로 묶되 유저아이디의 수를 다 합쳐서 표현\n",
        "ratings_count_df = ratings_df.groupby('movieId')['userId'].count(),\n",
        "ratings_count_df.head()"
      ],
      "execution_count": 58,
      "outputs": [
        {
          "output_type": "execute_result",
          "data": {
            "text/plain": [
              "movieId\n",
              "1    215\n",
              "2    110\n",
              "3     52\n",
              "4      7\n",
              "5     49\n",
              "Name: userId, dtype: int64"
            ]
          },
          "metadata": {
            "tags": []
          },
          "execution_count": 58
        }
      ]
    },
    {
      "cell_type": "code",
      "metadata": {
        "colab": {
          "base_uri": "https://localhost:8080/"
        },
        "id": "7-j8EbglbG_M",
        "outputId": "13c74dcd-2254-48fd-be00-5d1d165c2232"
      },
      "source": [
        "df = pd.DataFrame({\n",
        "    'ratings_count':ratings_df.groupby('movieId')['userId'].count(),\n",
        "})\n",
        "print(df.head(10))"
      ],
      "execution_count": 64,
      "outputs": [
        {
          "output_type": "stream",
          "text": [
            "         ratings_count\n",
            "movieId               \n",
            "1                  215\n",
            "2                  110\n",
            "3                   52\n",
            "4                    7\n",
            "5                   49\n",
            "6                  102\n",
            "7                   54\n",
            "8                    8\n",
            "9                   16\n",
            "10                 132\n"
          ],
          "name": "stdout"
        }
      ]
    },
    {
      "cell_type": "code",
      "metadata": {
        "id": "waKHZDmebb6o"
      },
      "source": [
        "# apply가 뭐지\n",
        "df['movie_name'] = df.apply(lambda x: movies_df['title'].loc[x.index])"
      ],
      "execution_count": 66,
      "outputs": []
    },
    {
      "cell_type": "code",
      "metadata": {
        "colab": {
          "base_uri": "https://localhost:8080/",
          "height": 390
        },
        "id": "k3Hr3Cyhbh3l",
        "outputId": "8471ec7c-ae34-4567-fb7c-0573c1f08392"
      },
      "source": [
        "df.head(10)"
      ],
      "execution_count": 67,
      "outputs": [
        {
          "output_type": "execute_result",
          "data": {
            "text/html": [
              "<div>\n",
              "<style scoped>\n",
              "    .dataframe tbody tr th:only-of-type {\n",
              "        vertical-align: middle;\n",
              "    }\n",
              "\n",
              "    .dataframe tbody tr th {\n",
              "        vertical-align: top;\n",
              "    }\n",
              "\n",
              "    .dataframe thead th {\n",
              "        text-align: right;\n",
              "    }\n",
              "</style>\n",
              "<table border=\"1\" class=\"dataframe\">\n",
              "  <thead>\n",
              "    <tr style=\"text-align: right;\">\n",
              "      <th></th>\n",
              "      <th>ratings_count</th>\n",
              "      <th>movie_name</th>\n",
              "    </tr>\n",
              "    <tr>\n",
              "      <th>movieId</th>\n",
              "      <th></th>\n",
              "      <th></th>\n",
              "    </tr>\n",
              "  </thead>\n",
              "  <tbody>\n",
              "    <tr>\n",
              "      <th>1</th>\n",
              "      <td>215</td>\n",
              "      <td>Toy Story (1995)</td>\n",
              "    </tr>\n",
              "    <tr>\n",
              "      <th>2</th>\n",
              "      <td>110</td>\n",
              "      <td>Jumanji (1995)</td>\n",
              "    </tr>\n",
              "    <tr>\n",
              "      <th>3</th>\n",
              "      <td>52</td>\n",
              "      <td>Grumpier Old Men (1995)</td>\n",
              "    </tr>\n",
              "    <tr>\n",
              "      <th>4</th>\n",
              "      <td>7</td>\n",
              "      <td>Waiting to Exhale (1995)</td>\n",
              "    </tr>\n",
              "    <tr>\n",
              "      <th>5</th>\n",
              "      <td>49</td>\n",
              "      <td>Father of the Bride Part II (1995)</td>\n",
              "    </tr>\n",
              "    <tr>\n",
              "      <th>6</th>\n",
              "      <td>102</td>\n",
              "      <td>Heat (1995)</td>\n",
              "    </tr>\n",
              "    <tr>\n",
              "      <th>7</th>\n",
              "      <td>54</td>\n",
              "      <td>Sabrina (1995)</td>\n",
              "    </tr>\n",
              "    <tr>\n",
              "      <th>8</th>\n",
              "      <td>8</td>\n",
              "      <td>Tom and Huck (1995)</td>\n",
              "    </tr>\n",
              "    <tr>\n",
              "      <th>9</th>\n",
              "      <td>16</td>\n",
              "      <td>Sudden Death (1995)</td>\n",
              "    </tr>\n",
              "    <tr>\n",
              "      <th>10</th>\n",
              "      <td>132</td>\n",
              "      <td>GoldenEye (1995)</td>\n",
              "    </tr>\n",
              "  </tbody>\n",
              "</table>\n",
              "</div>"
            ],
            "text/plain": [
              "         ratings_count                          movie_name\n",
              "movieId                                                   \n",
              "1                  215                    Toy Story (1995)\n",
              "2                  110                      Jumanji (1995)\n",
              "3                   52             Grumpier Old Men (1995)\n",
              "4                    7            Waiting to Exhale (1995)\n",
              "5                   49  Father of the Bride Part II (1995)\n",
              "6                  102                         Heat (1995)\n",
              "7                   54                      Sabrina (1995)\n",
              "8                    8                 Tom and Huck (1995)\n",
              "9                   16                 Sudden Death (1995)\n",
              "10                 132                    GoldenEye (1995)"
            ]
          },
          "metadata": {
            "tags": []
          },
          "execution_count": 67
        }
      ]
    },
    {
      "cell_type": "code",
      "metadata": {
        "colab": {
          "base_uri": "https://localhost:8080/",
          "height": 450
        },
        "id": "eUzS6hGtbsHc",
        "outputId": "603ab291-fe8f-41c7-8382-07ef1f5bb2ad"
      },
      "source": [
        "df.sort_values(by='ratings_count', ascending=False)"
      ],
      "execution_count": 68,
      "outputs": [
        {
          "output_type": "execute_result",
          "data": {
            "text/html": [
              "<div>\n",
              "<style scoped>\n",
              "    .dataframe tbody tr th:only-of-type {\n",
              "        vertical-align: middle;\n",
              "    }\n",
              "\n",
              "    .dataframe tbody tr th {\n",
              "        vertical-align: top;\n",
              "    }\n",
              "\n",
              "    .dataframe thead th {\n",
              "        text-align: right;\n",
              "    }\n",
              "</style>\n",
              "<table border=\"1\" class=\"dataframe\">\n",
              "  <thead>\n",
              "    <tr style=\"text-align: right;\">\n",
              "      <th></th>\n",
              "      <th>ratings_count</th>\n",
              "      <th>movie_name</th>\n",
              "    </tr>\n",
              "    <tr>\n",
              "      <th>movieId</th>\n",
              "      <th></th>\n",
              "      <th></th>\n",
              "    </tr>\n",
              "  </thead>\n",
              "  <tbody>\n",
              "    <tr>\n",
              "      <th>356</th>\n",
              "      <td>329</td>\n",
              "      <td>Forrest Gump (1994)</td>\n",
              "    </tr>\n",
              "    <tr>\n",
              "      <th>318</th>\n",
              "      <td>317</td>\n",
              "      <td>Shawshank Redemption, The (1994)</td>\n",
              "    </tr>\n",
              "    <tr>\n",
              "      <th>296</th>\n",
              "      <td>307</td>\n",
              "      <td>Pulp Fiction (1994)</td>\n",
              "    </tr>\n",
              "    <tr>\n",
              "      <th>593</th>\n",
              "      <td>279</td>\n",
              "      <td>Silence of the Lambs, The (1991)</td>\n",
              "    </tr>\n",
              "    <tr>\n",
              "      <th>2571</th>\n",
              "      <td>278</td>\n",
              "      <td>Matrix, The (1999)</td>\n",
              "    </tr>\n",
              "    <tr>\n",
              "      <th>...</th>\n",
              "      <td>...</td>\n",
              "      <td>...</td>\n",
              "    </tr>\n",
              "    <tr>\n",
              "      <th>4093</th>\n",
              "      <td>1</td>\n",
              "      <td>Cop (1988)</td>\n",
              "    </tr>\n",
              "    <tr>\n",
              "      <th>4089</th>\n",
              "      <td>1</td>\n",
              "      <td>Born in East L.A. (1987)</td>\n",
              "    </tr>\n",
              "    <tr>\n",
              "      <th>58351</th>\n",
              "      <td>1</td>\n",
              "      <td>City of Men (Cidade dos Homens) (2007)</td>\n",
              "    </tr>\n",
              "    <tr>\n",
              "      <th>4083</th>\n",
              "      <td>1</td>\n",
              "      <td>Best Seller (1987)</td>\n",
              "    </tr>\n",
              "    <tr>\n",
              "      <th>193609</th>\n",
              "      <td>1</td>\n",
              "      <td>Andrew Dice Clay: Dice Rules (1991)</td>\n",
              "    </tr>\n",
              "  </tbody>\n",
              "</table>\n",
              "<p>9724 rows × 2 columns</p>\n",
              "</div>"
            ],
            "text/plain": [
              "         ratings_count                              movie_name\n",
              "movieId                                                       \n",
              "356                329                     Forrest Gump (1994)\n",
              "318                317        Shawshank Redemption, The (1994)\n",
              "296                307                     Pulp Fiction (1994)\n",
              "593                279        Silence of the Lambs, The (1991)\n",
              "2571               278                      Matrix, The (1999)\n",
              "...                ...                                     ...\n",
              "4093                 1                              Cop (1988)\n",
              "4089                 1                Born in East L.A. (1987)\n",
              "58351                1  City of Men (Cidade dos Homens) (2007)\n",
              "4083                 1                      Best Seller (1987)\n",
              "193609               1     Andrew Dice Clay: Dice Rules (1991)\n",
              "\n",
              "[9724 rows x 2 columns]"
            ]
          },
          "metadata": {
            "tags": []
          },
          "execution_count": 68
        }
      ]
    },
    {
      "cell_type": "markdown",
      "metadata": {
        "id": "4WgFnIn7c0uU"
      },
      "source": [
        "## 특정 영화의 평점 분포\n",
        "movieId : 356, 포레스트 검프 (1994)\n",
        "\n",
        "movieId : 2571. Matrix, The(1999)\n"
      ]
    },
    {
      "cell_type": "code",
      "metadata": {
        "colab": {
          "base_uri": "https://localhost:8080/",
          "height": 283
        },
        "id": "gWuNDeSCcrVJ",
        "outputId": "affae630-aa0e-412b-ec91-cf342b7e1dad"
      },
      "source": [
        "ratings_df[ratings_df.movieId == 356]['rating'].hist()"
      ],
      "execution_count": 69,
      "outputs": [
        {
          "output_type": "execute_result",
          "data": {
            "text/plain": [
              "<matplotlib.axes._subplots.AxesSubplot at 0x7f7b64d39c50>"
            ]
          },
          "metadata": {
            "tags": []
          },
          "execution_count": 69
        },
        {
          "output_type": "display_data",
          "data": {
            "image/png": "[encoded data removed]",
            "text/plain": [
              "<Figure size 432x288 with 1 Axes>"
            ]
          },
          "metadata": {
            "tags": [],
            "needs_background": "light"
          }
        }
      ]
    },
    {
      "cell_type": "code",
      "metadata": {
        "colab": {
          "base_uri": "https://localhost:8080/",
          "height": 282
        },
        "id": "FW_ON2k_dN1i",
        "outputId": "cb3f8826-8dd6-4385-e8bf-c475ac95af0d"
      },
      "source": [
        "ratings_df[ratings_df.movieId == 2571]['rating'].hist()"
      ],
      "execution_count": 70,
      "outputs": [
        {
          "output_type": "execute_result",
          "data": {
            "text/plain": [
              "<matplotlib.axes._subplots.AxesSubplot at 0x7f7b64d4fa10>"
            ]
          },
          "metadata": {
            "tags": []
          },
          "execution_count": 70
        },
        {
          "output_type": "display_data",
          "data": {
            "image/png": "[encoded data removed]",
            "text/plain": [
              "<Figure size 432x288 with 1 Axes>"
            ]
          },
          "metadata": {
            "tags": [],
            "needs_background": "light"
          }
        }
      ]
    },
    {
      "cell_type": "markdown",
      "metadata": {
        "id": "UTnRWo-gdXVO"
      },
      "source": [
        "# 특정 유저가 주는 평점과 실제 영화의 평점 분포가 비슷할까?"
      ]
    },
    {
      "cell_type": "code",
      "metadata": {
        "colab": {
          "base_uri": "https://localhost:8080/",
          "height": 111
        },
        "id": "x8sVGQQ-dQTD",
        "outputId": "df6a3cc1-15b2-43bb-b162-35814a024387"
      },
      "source": [
        "# 356번의 영화에 2점 미만으로 점수를 준 데이터\n",
        "ratings_df[(ratings_df.movieId == 356) & (ratings_df.rating < 2)]"
      ],
      "execution_count": 71,
      "outputs": [
        {
          "output_type": "execute_result",
          "data": {
            "text/html": [
              "<div>\n",
              "<style scoped>\n",
              "    .dataframe tbody tr th:only-of-type {\n",
              "        vertical-align: middle;\n",
              "    }\n",
              "\n",
              "    .dataframe tbody tr th {\n",
              "        vertical-align: top;\n",
              "    }\n",
              "\n",
              "    .dataframe thead th {\n",
              "        text-align: right;\n",
              "    }\n",
              "</style>\n",
              "<table border=\"1\" class=\"dataframe\">\n",
              "  <thead>\n",
              "    <tr style=\"text-align: right;\">\n",
              "      <th></th>\n",
              "      <th>userId</th>\n",
              "      <th>movieId</th>\n",
              "      <th>rating</th>\n",
              "      <th>timestamp</th>\n",
              "    </tr>\n",
              "  </thead>\n",
              "  <tbody>\n",
              "    <tr>\n",
              "      <th>12274</th>\n",
              "      <td>76</td>\n",
              "      <td>356</td>\n",
              "      <td>1.0</td>\n",
              "      <td>1439165536</td>\n",
              "    </tr>\n",
              "    <tr>\n",
              "      <th>13553</th>\n",
              "      <td>89</td>\n",
              "      <td>356</td>\n",
              "      <td>0.5</td>\n",
              "      <td>1520408275</td>\n",
              "    </tr>\n",
              "  </tbody>\n",
              "</table>\n",
              "</div>"
            ],
            "text/plain": [
              "       userId  movieId  rating   timestamp\n",
              "12274      76      356     1.0  1439165536\n",
              "13553      89      356     0.5  1520408275"
            ]
          },
          "metadata": {
            "tags": []
          },
          "execution_count": 71
        }
      ]
    },
    {
      "cell_type": "code",
      "metadata": {
        "colab": {
          "base_uri": "https://localhost:8080/",
          "height": 328
        },
        "id": "-8Vv7YZQdWik",
        "outputId": "b892e479-5e0c-46b6-e1ed-de3b18b40335"
      },
      "source": [
        "ratings_df[(ratings_df.movieId == 2571) & (ratings_df.rating < 2)]"
      ],
      "execution_count": 72,
      "outputs": [
        {
          "output_type": "execute_result",
          "data": {
            "text/html": [
              "<div>\n",
              "<style scoped>\n",
              "    .dataframe tbody tr th:only-of-type {\n",
              "        vertical-align: middle;\n",
              "    }\n",
              "\n",
              "    .dataframe tbody tr th {\n",
              "        vertical-align: top;\n",
              "    }\n",
              "\n",
              "    .dataframe thead th {\n",
              "        text-align: right;\n",
              "    }\n",
              "</style>\n",
              "<table border=\"1\" class=\"dataframe\">\n",
              "  <thead>\n",
              "    <tr style=\"text-align: right;\">\n",
              "      <th></th>\n",
              "      <th>userId</th>\n",
              "      <th>movieId</th>\n",
              "      <th>rating</th>\n",
              "      <th>timestamp</th>\n",
              "    </tr>\n",
              "  </thead>\n",
              "  <tbody>\n",
              "    <tr>\n",
              "      <th>442</th>\n",
              "      <td>4</td>\n",
              "      <td>2571</td>\n",
              "      <td>1.0</td>\n",
              "      <td>945173385</td>\n",
              "    </tr>\n",
              "    <tr>\n",
              "      <th>1130</th>\n",
              "      <td>10</td>\n",
              "      <td>2571</td>\n",
              "      <td>0.5</td>\n",
              "      <td>1455356378</td>\n",
              "    </tr>\n",
              "    <tr>\n",
              "      <th>8706</th>\n",
              "      <td>59</td>\n",
              "      <td>2571</td>\n",
              "      <td>1.0</td>\n",
              "      <td>953609098</td>\n",
              "    </tr>\n",
              "    <tr>\n",
              "      <th>12239</th>\n",
              "      <td>75</td>\n",
              "      <td>2571</td>\n",
              "      <td>1.0</td>\n",
              "      <td>1158967564</td>\n",
              "    </tr>\n",
              "    <tr>\n",
              "      <th>17337</th>\n",
              "      <td>111</td>\n",
              "      <td>2571</td>\n",
              "      <td>0.5</td>\n",
              "      <td>1516140656</td>\n",
              "    </tr>\n",
              "    <tr>\n",
              "      <th>22474</th>\n",
              "      <td>153</td>\n",
              "      <td>2571</td>\n",
              "      <td>0.5</td>\n",
              "      <td>1525548255</td>\n",
              "    </tr>\n",
              "    <tr>\n",
              "      <th>65107</th>\n",
              "      <td>416</td>\n",
              "      <td>2571</td>\n",
              "      <td>1.0</td>\n",
              "      <td>1187496634</td>\n",
              "    </tr>\n",
              "    <tr>\n",
              "      <th>71534</th>\n",
              "      <td>461</td>\n",
              "      <td>2571</td>\n",
              "      <td>0.5</td>\n",
              "      <td>1505935248</td>\n",
              "    </tr>\n",
              "    <tr>\n",
              "      <th>71706</th>\n",
              "      <td>462</td>\n",
              "      <td>2571</td>\n",
              "      <td>0.5</td>\n",
              "      <td>1154037742</td>\n",
              "    </tr>\n",
              "  </tbody>\n",
              "</table>\n",
              "</div>"
            ],
            "text/plain": [
              "       userId  movieId  rating   timestamp\n",
              "442         4     2571     1.0   945173385\n",
              "1130       10     2571     0.5  1455356378\n",
              "8706       59     2571     1.0   953609098\n",
              "12239      75     2571     1.0  1158967564\n",
              "17337     111     2571     0.5  1516140656\n",
              "22474     153     2571     0.5  1525548255\n",
              "65107     416     2571     1.0  1187496634\n",
              "71534     461     2571     0.5  1505935248\n",
              "71706     462     2571     0.5  1154037742"
            ]
          },
          "metadata": {
            "tags": []
          },
          "execution_count": 72
        }
      ]
    },
    {
      "cell_type": "code",
      "metadata": {
        "colab": {
          "base_uri": "https://localhost:8080/",
          "height": 285
        },
        "id": "h8JhNX1ZdqSH",
        "outputId": "752753ca-b335-449c-e0c5-b3c6fdaa76dd"
      },
      "source": [
        "ratings_df[ratings_df.userId == 76]['rating'].hist()"
      ],
      "execution_count": 73,
      "outputs": [
        {
          "output_type": "execute_result",
          "data": {
            "text/plain": [
              "<matplotlib.axes._subplots.AxesSubplot at 0x7f7b7e05c610>"
            ]
          },
          "metadata": {
            "tags": []
          },
          "execution_count": 73
        },
        {
          "output_type": "display_data",
          "data": {
            "image/png": "[encoded data removed]",
            "text/plain": [
              "<Figure size 432x288 with 1 Axes>"
            ]
          },
          "metadata": {
            "tags": [],
            "needs_background": "light"
          }
        }
      ]
    },
    {
      "cell_type": "markdown",
      "metadata": {
        "id": "eRwTW4kzd-xv"
      },
      "source": [
        "76번의 점수 매긴 분포를 보니 356번 영화를 추천하면 안되겠네"
      ]
    },
    {
      "cell_type": "code",
      "metadata": {
        "id": "q23Frmtad61Q"
      },
      "source": [
        ""
      ],
      "execution_count": null,
      "outputs": []
    }
  ]
}