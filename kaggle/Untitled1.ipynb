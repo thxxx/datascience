{
 "cells": [
  {
   "cell_type": "code",
   "execution_count": 9,
   "metadata": {},
   "outputs": [
    {
     "name": "stdout",
     "output_type": "stream",
     "text": [
      "[0 1 2 3 4 5 6 7 8 9]\n",
      "[[0 1 2 3 4]\n",
      " [5 6 7 8 9]]\n",
      "[[0], [1], [2], [3], [4], [5], [6], [7], [8], [9]] (10, 1)\n"
     ]
    }
   ],
   "source": [
    "import numpy as np\n",
    "arr1 = np.arange(10)\n",
    "print(arr1)\n",
    "arr2 = arr1.reshape(2,5)\n",
    "print(arr2)\n",
    "arr3 = arr2.reshape(-1,1)\n",
    "print(arr3.tolist(), arr3.shape)"
   ]
  },
  {
   "cell_type": "code",
   "execution_count": 13,
   "metadata": {},
   "outputs": [
    {
     "name": "stdout",
     "output_type": "stream",
     "text": [
      "5 <class 'numpy.int64'>\n"
     ]
    }
   ],
   "source": [
    "arr1 = np.arange(start=1, stop=10)\n",
    "print(arr1[4], type(arr1[4]))"
   ]
  },
  {
   "cell_type": "code",
   "execution_count": 34,
   "metadata": {},
   "outputs": [
    {
     "name": "stdout",
     "output_type": "stream",
     "text": [
      "[[1 2 3]\n",
      " [4 5 6]\n",
      " [7 8 9]]\n",
      "[3 6 9] (3,)\n",
      "[[1]\n",
      " [2]\n",
      " [3]] (3, 1)\n",
      "[6 7 8 9]\n"
     ]
    }
   ],
   "source": [
    "arr4 = arr1.reshape(3,3)\n",
    "print(arr4)\n",
    "print(arr4[0:3, 2], arr4[0:3, 2].shape)\n",
    "arr5 = np.arange(1,10)\n",
    "print(arr5.reshape(-1,1)[0:3], arr5.reshape(-1,1)[0:3].shape)\n",
    "print(arr4[arr4>5])"
   ]
  },
  {
   "cell_type": "code",
   "execution_count": 40,
   "metadata": {},
   "outputs": [
    {
     "name": "stdout",
     "output_type": "stream",
     "text": [
      "[[12  8]\n",
      " [ 7  1]]\n",
      "[[ 7  1]\n",
      " [12  8]]\n",
      "[[ 8 12]\n",
      " [ 1  7]]\n"
     ]
    }
   ],
   "source": [
    "arr3 = np.array([[12,8],[7,1]])\n",
    "print(arr3)\n",
    "print(np.sort(arr3, axis=0))\n",
    "print(np.sort(arr3, axis=1))"
   ]
  },
  {
   "cell_type": "code",
   "execution_count": null,
   "metadata": {},
   "outputs": [],
   "source": []
  },
  {
   "cell_type": "code",
   "execution_count": null,
   "metadata": {},
   "outputs": [],
   "source": []
  }
 ],
 "metadata": {
  "kernelspec": {
   "display_name": "Python 3",
   "language": "python",
   "name": "python3"
  },
  "language_info": {
   "codemirror_mode": {
    "name": "ipython",
    "version": 3
   },
   "file_extension": ".py",
   "mimetype": "text/x-python",
   "name": "python",
   "nbconvert_exporter": "python",
   "pygments_lexer": "ipython3",
   "version": "3.8.5"
  }
 },
 "nbformat": 4,
 "nbformat_minor": 4
}
