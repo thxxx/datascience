{
  "nbformat": 4,
  "nbformat_minor": 0,
  "metadata": {
    "colab": {
      "name": "hospital2.ipynb",
      "provenance": [],
      "collapsed_sections": [],
      "authorship_tag": "ABX9TyMNHCSkbSBafyuGWdc4SJOf",
      "include_colab_link": true
    },
    "kernelspec": {
      "name": "python3",
      "display_name": "Python 3"
    },
    "language_info": {
      "name": "python"
    }
  },
  "cells": [
    {
      "cell_type": "markdown",
      "metadata": {
        "id": "view-in-github",
        "colab_type": "text"
      },
      "source": [
        "<a href=\"https://colab.research.google.com/github/thxxx/datascience/blob/main/hospital2.ipynb\" target=\"_parent\"><img src=\"https://colab.research.google.com/assets/colab-badge.svg\" alt=\"Open In Colab\"/></a>"
      ]
    },
    {
      "cell_type": "code",
      "metadata": {
        "id": "vKFZmej_nvBn"
      },
      "source": [
        "# import 모음\n",
        "import os\n",
        "import pandas as pd\n",
        "from matplotlib import pyplot as plt\n",
        "import numpy as np\n",
        "from sklearn.tree import DecisionTreeClassifier\n",
        "from sklearn.metrics import accuracy_score\n",
        "from sklearn.model_selection import train_test_split\n",
        "from sklearn.model_selection import StratifiedKFold\n",
        "import numpy as np\n"
      ],
      "execution_count": 1,
      "outputs": []
    },
    {
      "cell_type": "code",
      "metadata": {
        "colab": {
          "base_uri": "https://localhost:8080/"
        },
        "id": "8o7om2RSn47P",
        "outputId": "8f37afed-a24b-4fca-85e8-9d7df132d309"
      },
      "source": [
        "# 구글 드라이브 마운트\n",
        "from google.colab import drive\n",
        "drive.mount('/content/drive')"
      ],
      "execution_count": 2,
      "outputs": [
        {
          "output_type": "stream",
          "text": [
            "Mounted at /content/drive\n"
          ],
          "name": "stdout"
        }
      ]
    },
    {
      "cell_type": "code",
      "metadata": {
        "colab": {
          "base_uri": "https://localhost:8080/"
        },
        "id": "JM9rwu4Cn8oC",
        "outputId": "786d320a-add2-43ee-fc5a-79db717cd471"
      },
      "source": [
        "path = '/content/drive/MyDrive/data/dacon/'\n",
        "os.listdir(path) # path에 뭐가 들어있는지 보여준다."
      ],
      "execution_count": 3,
      "outputs": [
        {
          "output_type": "execute_result",
          "data": {
            "text/plain": [
              "['submission_sample.csv',\n",
              " 'test.csv',\n",
              " 'train.csv',\n",
              " 'hospital.ipynb',\n",
              " 'hospital2.ipynb']"
            ]
          },
          "metadata": {
            "tags": []
          },
          "execution_count": 3
        }
      ]
    },
    {
      "cell_type": "code",
      "metadata": {
        "id": "K8DqMQhhoMz9"
      },
      "source": [
        "# 파일 전부 읽는다.\n",
        "tdf = pd.read_csv(os.path.join(path + 'train.csv'), encoding='utf-8')\n",
        "test_df = pd.read_csv(os.path.join(path + 'test.csv'), encoding='utf-8')\n",
        "sdf = pd.read_csv(os.path.join(path + 'submission_sample.csv'), encoding='utf-8')"
      ],
      "execution_count": 4,
      "outputs": []
    },
    {
      "cell_type": "markdown",
      "metadata": {
        "id": "WY_hubcQoVf0"
      },
      "source": [
        "##Train data의 전처리 작업"
      ]
    },
    {
      "cell_type": "code",
      "metadata": {
        "id": "XPmLOhSZpwHM"
      },
      "source": [
        "# profit1의 Nan값들은 0으로 채운다.\n",
        "tdf['profit1'] = tdf['profit1'].fillna('0')\n",
        "\n",
        "# ownerChange의 Nan값들은 same으로 채운다.\n",
        "tdf['ownerChange'] = tdf['ownerChange'].fillna('same')"
      ],
      "execution_count": 5,
      "outputs": []
    },
    {
      "cell_type": "code",
      "metadata": {
        "id": "YVhTDrsQoU76"
      },
      "source": [
        "# 오픈했는지 아닌지 OC open, close를 숫자 0,1로 바꿔준다.\n",
        "tdf['OC'] = tdf['OC'].apply(lambda x: 0 if x=='open' else 1)\n",
        "\n",
        "# String same, change를 0,1로 바꾼다.\n",
        "tdf['ownerChange'] = tdf['ownerChange'].apply(lambda x: 0 if x=='same' else 1 )"
      ],
      "execution_count": 6,
      "outputs": []
    },
    {
      "cell_type": "code",
      "metadata": {
        "colab": {
          "base_uri": "https://localhost:8080/"
        },
        "id": "AEzKEaoyoQNZ",
        "outputId": "4fffcb2c-4bb1-4d8a-c23d-3d60d49cbbd7"
      },
      "source": [
        "#일단 instkind랑 sido는 여러 종류의 String이라서 드랍했다.\n",
        "tdf.drop(['instkind', 'sido'], axis=1, inplace=True)\n",
        "\n",
        "# revenue1이 NaN인건 다른 칼럼도 다 NaN인 row길래 드랍해버림\n",
        "# 훨씬 코드를 잘짤 수 있다. 일단은 생각이 안나서 이따위로 함\n",
        "for i, x in enumerate(list(tdf['revenue1'].isna())):\n",
        "  if x == True:\n",
        "    print(tdf.drop(i, axis=0, inplace=True))\n",
        "\n"
      ],
      "execution_count": 7,
      "outputs": [
        {
          "output_type": "stream",
          "text": [
            "None\n",
            "None\n",
            "None\n",
            "None\n",
            "None\n",
            "None\n",
            "None\n",
            "None\n"
          ],
          "name": "stdout"
        }
      ]
    },
    {
      "cell_type": "code",
      "metadata": {
        "id": "EvCoEYdcnwyu"
      },
      "source": [
        "# bedCount, employee1,2 다 그냥 평균값으로 NaN 채움.\n",
        "tdf['bedCount'] = tdf['bedCount'].fillna(tdf['bedCount'].mean())\n",
        "tdf['employee1'] = tdf['employee1'].fillna(tdf['employee1'].mean())\n",
        "tdf['employee2'] = tdf['employee2'].fillna(tdf['employee2'].mean())"
      ],
      "execution_count": 8,
      "outputs": []
    },
    {
      "cell_type": "code",
      "metadata": {
        "id": "A913UqQJn72q"
      },
      "source": [
        "# OC는 정답이니까 따로 빼낸다!\n",
        "\n",
        "skf = StratifiedKFold(n_splits=5)\n",
        "n_iter = 0\n",
        "\n",
        "train_label = tdf['OC']\n",
        "tdf = tdf.drop(['OC'], axis=1)"
      ],
      "execution_count": 9,
      "outputs": []
    },
    {
      "cell_type": "code",
      "metadata": {
        "id": "skysND5ooAAv"
      },
      "source": [
        "# 결정 트리 분류 모델 사용\n",
        "dt_clf = DecisionTreeClassifier()\n",
        "cv_accuracy = []"
      ],
      "execution_count": 10,
      "outputs": []
    },
    {
      "cell_type": "code",
      "metadata": {
        "id": "O7kgiKLGoIft"
      },
      "source": [
        "# 트레인 데이터 test, train으로 나눔\n",
        "X_train, X_test, y_train, y_test = train_test_split(tdf.values, train_label, test_size=0.3, random_state=177)"
      ],
      "execution_count": 11,
      "outputs": []
    },
    {
      "cell_type": "code",
      "metadata": {
        "id": "QltsqElCoDsG"
      },
      "source": [
        "# 학습\n",
        "dt_clf.fit(X_train, y_train)\n",
        "# 예측\n",
        "pred = dt_clf.predict(X_test)"
      ],
      "execution_count": 12,
      "outputs": []
    },
    {
      "cell_type": "code",
      "metadata": {
        "colab": {
          "base_uri": "https://localhost:8080/"
        },
        "id": "VWhcupo6oXvN",
        "outputId": "591a04b6-722c-4008-bd2c-6c50dbed1d72"
      },
      "source": [
        "# 정확도!\n",
        "print(\"정확도 : \",accuracy_score(y_test, pred))"
      ],
      "execution_count": 13,
      "outputs": [
        {
          "output_type": "stream",
          "text": [
            "정확도 :  0.9318181818181818\n"
          ],
          "name": "stdout"
        }
      ]
    },
    {
      "cell_type": "code",
      "metadata": {
        "id": "f82gJnMQpZBE"
      },
      "source": [
        ""
      ],
      "execution_count": null,
      "outputs": []
    }
  ]
}