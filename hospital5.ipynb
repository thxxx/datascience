{
  "nbformat": 4,
  "nbformat_minor": 0,
  "metadata": {
    "colab": {
      "name": "hospital5.ipynb",
      "provenance": [],
      "collapsed_sections": [],
      "authorship_tag": "ABX9TyPNzEDA2/XvHK2M1mRVqKtl",
      "include_colab_link": true
    },
    "kernelspec": {
      "name": "python3",
      "display_name": "Python 3"
    },
    "language_info": {
      "name": "python"
    },
    "accelerator": "GPU"
  },
  "cells": [
    {
      "cell_type": "markdown",
      "metadata": {
        "id": "view-in-github",
        "colab_type": "text"
      },
      "source": [
        "<a href=\"https://colab.research.google.com/github/thxxx/datascience/blob/master/hospital5.ipynb\" target=\"_parent\"><img src=\"https://colab.research.google.com/assets/colab-badge.svg\" alt=\"Open In Colab\"/></a>"
      ]
    },
    {
      "cell_type": "code",
      "metadata": {
        "id": "vKFZmej_nvBn"
      },
      "source": [
        "# import 모음\n",
        "import os\n",
        "import pandas as pd\n",
        "from matplotlib import pyplot as plt\n",
        "import numpy as np\n",
        "from sklearn.tree import DecisionTreeClassifier\n",
        "from sklearn.metrics import accuracy_score\n",
        "import seaborn as sns\n",
        "\n",
        "from sklearn.model_selection import train_test_split\n",
        "from sklearn.model_selection import StratifiedKFold, cross_val_score, cross_validate\n",
        "from sklearn.preprocessing import MinMaxScaler, StandardScaler \n",
        "from sklearn.ensemble import RandomForestClassifier\n",
        "import xgboost\n",
        "\n",
        "import numpy as np\n",
        "import graphviz"
      ],
      "execution_count": null,
      "outputs": []
    },
    {
      "cell_type": "markdown",
      "metadata": {
        "id": "PSjLAn4FiuCz"
      },
      "source": [
        ""
      ]
    },
    {
      "cell_type": "code",
      "metadata": {
        "colab": {
          "base_uri": "https://localhost:8080/"
        },
        "id": "8o7om2RSn47P",
        "outputId": "d36577d9-cf65-45fa-8232-51c78ffb6d4e"
      },
      "source": [
        "# 구글 드라이브 마운트\n",
        "from google.colab import drive\n",
        "drive.mount('/content/drive')"
      ],
      "execution_count": null,
      "outputs": [
        {
          "output_type": "stream",
          "text": [
            "Drive already mounted at /content/drive; to attempt to forcibly remount, call drive.mount(\"/content/drive\", force_remount=True).\n"
          ],
          "name": "stdout"
        }
      ]
    },
    {
      "cell_type": "code",
      "metadata": {
        "colab": {
          "base_uri": "https://localhost:8080/"
        },
        "id": "JM9rwu4Cn8oC",
        "outputId": "ff190c89-6960-4190-c8ec-88199e13f0b2"
      },
      "source": [
        "path = '/content/drive/MyDrive/data/dacon/'\n",
        "os.listdir(path) # path에 뭐가 들어있는지 보여준다."
      ],
      "execution_count": null,
      "outputs": [
        {
          "output_type": "execute_result",
          "data": {
            "text/plain": [
              "['submission_sample.csv',\n",
              " 'test.csv',\n",
              " 'train.csv',\n",
              " 'hospital.ipynb',\n",
              " 'hospital2.ipynb',\n",
              " 'Untitled',\n",
              " 'hospital3.ipynb',\n",
              " 'hospital3.ipynb의 사본']"
            ]
          },
          "metadata": {
            "tags": []
          },
          "execution_count": 125
        }
      ]
    },
    {
      "cell_type": "code",
      "metadata": {
        "id": "K8DqMQhhoMz9"
      },
      "source": [
        "# 파일 전부 읽는다.\n",
        "tdf = pd.read_csv(os.path.join(path + 'train.csv'), encoding='utf-8')\n",
        "test_df = pd.read_csv(os.path.join(path + 'test.csv'), encoding='utf-8')\n",
        "sdf = pd.read_csv(os.path.join(path + 'submission_sample.csv'), encoding='utf-8')"
      ],
      "execution_count": null,
      "outputs": []
    },
    {
      "cell_type": "code",
      "metadata": {
        "colab": {
          "base_uri": "https://localhost:8080/"
        },
        "id": "ZvYt_svAfR6T",
        "outputId": "ffcc89e9-29ea-4c20-ac1e-d906b328ec48"
      },
      "source": [
        "tdf.shape"
      ],
      "execution_count": null,
      "outputs": [
        {
          "output_type": "execute_result",
          "data": {
            "text/plain": [
              "(301, 58)"
            ]
          },
          "metadata": {
            "tags": []
          },
          "execution_count": 127
        }
      ]
    },
    {
      "cell_type": "markdown",
      "metadata": {
        "id": "WY_hubcQoVf0"
      },
      "source": [
        "##Train data의 전처리 작업"
      ]
    },
    {
      "cell_type": "code",
      "metadata": {
        "id": "Sm_Majp6wS3u"
      },
      "source": [
        "# revenue1이 NaN인건 다른 칼럼도 다 NaN인 row길래 드랍해버림\n",
        "# 훨씬 코드를 잘짤 수 있다. 일단은 생각이 안나서 이따위로 함\n",
        "# for i, x in enumerate(list(tdf['revenue1'].isna())):\n",
        "#   if x == True:\n",
        "#     print(tdf.drop(i, axis=0, inplace=True))\n",
        "tdf.dropna(subset=['revenue1'], inplace=True)\n",
        "\n",
        "# inst_id 는 아이디일 뿐인데 평가에 사용되는 듯해서 드랍해버렸다\n",
        "tdf = tdf.drop(['inst_id'], axis=1)\n",
        "# ownerChange의 Nan값들은 same으로 채운다. same이 241, change가 42개, NaN이 10개\n",
        "tdf['ownerChange'] = tdf['ownerChange'].fillna('same')\n",
        "# 오픈했는지 아닌지 OC open, close를 숫자 0,1로 바꿔준다.\n",
        "tdf['OC'] = tdf['OC'].apply(lambda x: 1 if x=='open' else 0)\n",
        "\n",
        "# String same, change를 0,1로 바꾼다.\n",
        "tdf['ownerChange'] = tdf['ownerChange'].apply(lambda x: 0 if x=='same' else 1 )\n",
        "# bedCount, employee1,2 다 그냥 평균값으로 NaN 채움.\n",
        "tdf['bedCount'] = tdf['bedCount'].fillna(tdf['bedCount'].mean()) # NaN인건 5개, \n",
        "tdf['employee1'] = tdf['employee1'].fillna(tdf['employee1'].mean())\n",
        "tdf['employee2'] = tdf['employee2'].fillna(tdf['employee2'].mean())"
      ],
      "execution_count": null,
      "outputs": []
    },
    {
      "cell_type": "code",
      "metadata": {
        "id": "QR4mzvTHt9an"
      },
      "source": [
        "# 원핫 인코딩 아주 간단한 방법\n",
        "tdf = pd.get_dummies(tdf, columns=['sido', 'instkind'])"
      ],
      "execution_count": null,
      "outputs": []
    },
    {
      "cell_type": "code",
      "metadata": {
        "colab": {
          "base_uri": "https://localhost:8080/"
        },
        "id": "5W5ThlcpdvbU",
        "outputId": "49fa8330-ac7b-4811-f639-412761c2e5a2"
      },
      "source": [
        "# 값들의 정규화. MinMaxScaler는 데이터 값을 0과 1사이 값으로 변환\n",
        "scaler = MinMaxScaler(feature_range = (0,1))\n",
        "# scaler.fit(tdf)\n",
        "tdf[tdf.columns] = scaler.fit_transform(tdf[tdf.columns])\n",
        "print(\"HI!\")\n"
      ],
      "execution_count": null,
      "outputs": [
        {
          "output_type": "stream",
          "text": [
            "HI!\n"
          ],
          "name": "stdout"
        }
      ]
    },
    {
      "cell_type": "code",
      "metadata": {
        "id": "A913UqQJn72q"
      },
      "source": [
        "# OC는 정답이니까 따로 빼낸다!\n",
        "\n",
        "skf = StratifiedKFold(n_splits=5)\n",
        "n_iter = 0\n",
        "\n",
        "train_label = tdf['OC']\n",
        "tdf = tdf.drop(['OC'], axis=1)"
      ],
      "execution_count": null,
      "outputs": []
    },
    {
      "cell_type": "code",
      "metadata": {
        "id": "CcDQsiQbhb8T"
      },
      "source": [
        "from sklearn.decomposition import PCA\n",
        "\n",
        "# n_components는 pca로 반환할 차원의 수\n",
        "pca = PCA(n_components=50)\n",
        "\n",
        "#fit과 transform을 호출해 PCA변환 데이터 반환\n",
        "pca.fit(tdf)\n",
        "tdf = pca.transform(tdf)\n"
      ],
      "execution_count": null,
      "outputs": []
    },
    {
      "cell_type": "code",
      "metadata": {
        "id": "rvLg3Qe9hfeq"
      },
      "source": [
        "\n",
        "columns = []\n",
        "for i in range(50):\n",
        "  columns.append(f\"pca_com{i+1}\")\n",
        "pca_train = pd.DataFrame(tdf, columns=columns)\n"
      ],
      "execution_count": null,
      "outputs": []
    },
    {
      "cell_type": "code",
      "metadata": {
        "id": "O7kgiKLGoIft"
      },
      "source": [
        "# 트레인 데이터 test, train으로 나눔\n",
        "X_train, X_test, y_train, y_test = train_test_split(pca_train.values, train_label, test_size=0.3, random_state=177)"
      ],
      "execution_count": null,
      "outputs": []
    },
    {
      "cell_type": "code",
      "metadata": {
        "colab": {
          "base_uri": "https://localhost:8080/"
        },
        "id": "5QRkoHUbiwZT",
        "outputId": "40a155fa-4026-4d48-c236-f090db24d7f2"
      },
      "source": [
        "print(xgboost.__version__)"
      ],
      "execution_count": null,
      "outputs": [
        {
          "output_type": "stream",
          "text": [
            "0.90\n"
          ],
          "name": "stdout"
        }
      ]
    },
    {
      "cell_type": "code",
      "metadata": {
        "id": "YUpxhLRwjSbX"
      },
      "source": [
        "dtrain = xgboost.DMatrix(data=X_train, label=y_train)\n",
        "dtest = xgboost.DMatrix(data=X_test, label=y_test)"
      ],
      "execution_count": null,
      "outputs": []
    },
    {
      "cell_type": "code",
      "metadata": {
        "id": "u6-hexj6jfIu"
      },
      "source": [
        "params = {\n",
        "    'max_depth':3,\n",
        "    'eta':0.1,\n",
        "    'objective':'binary:logistic',\n",
        "    'eval_metric':'logloss',\n",
        "    'early_stoppings':100\n",
        "}\n",
        "num_rounds=400"
      ],
      "execution_count": null,
      "outputs": []
    },
    {
      "cell_type": "code",
      "metadata": {
        "colab": {
          "base_uri": "https://localhost:8080/"
        },
        "id": "RxKKhs2kkCTY",
        "outputId": "cd8ee24c-8ec6-43fc-b904-2d902ec10ea4"
      },
      "source": [
        "wlist = [(dtrain, 'train'),(dtest,'test')]\n",
        "xgbmodel = xgboost.train(params=params, dtrain=dtrain, num_boost_round=num_rounds, early_stopping_rounds=100, evals=wlist)"
      ],
      "execution_count": null,
      "outputs": [
        {
          "output_type": "stream",
          "text": [
            "[0]\ttrain-logloss:0.616494\ttest-logloss:0.620079\n",
            "Multiple eval metrics have been passed: 'test-logloss' will be used for early stopping.\n",
            "\n",
            "Will train until test-logloss hasn't improved in 100 rounds.\n",
            "[1]\ttrain-logloss:0.551681\ttest-logloss:0.564622\n",
            "[2]\ttrain-logloss:0.497788\ttest-logloss:0.512051\n",
            "[3]\ttrain-logloss:0.451355\ttest-logloss:0.472223\n",
            "[4]\ttrain-logloss:0.412138\ttest-logloss:0.433945\n",
            "[5]\ttrain-logloss:0.3775\ttest-logloss:0.406473\n",
            "[6]\ttrain-logloss:0.347212\ttest-logloss:0.37846\n",
            "[7]\ttrain-logloss:0.321592\ttest-logloss:0.35298\n",
            "[8]\ttrain-logloss:0.298293\ttest-logloss:0.33188\n",
            "[9]\ttrain-logloss:0.277189\ttest-logloss:0.318104\n",
            "[10]\ttrain-logloss:0.259382\ttest-logloss:0.300846\n",
            "[11]\ttrain-logloss:0.242549\ttest-logloss:0.29078\n",
            "[12]\ttrain-logloss:0.228437\ttest-logloss:0.277332\n",
            "[13]\ttrain-logloss:0.214754\ttest-logloss:0.270439\n",
            "[14]\ttrain-logloss:0.200516\ttest-logloss:0.260474\n",
            "[15]\ttrain-logloss:0.187813\ttest-logloss:0.251565\n",
            "[16]\ttrain-logloss:0.176476\ttest-logloss:0.243728\n",
            "[17]\ttrain-logloss:0.168461\ttest-logloss:0.235891\n",
            "[18]\ttrain-logloss:0.157024\ttest-logloss:0.22781\n",
            "[19]\ttrain-logloss:0.147922\ttest-logloss:0.224526\n",
            "[20]\ttrain-logloss:0.139144\ttest-logloss:0.220885\n",
            "[21]\ttrain-logloss:0.131438\ttest-logloss:0.217372\n",
            "[22]\ttrain-logloss:0.124116\ttest-logloss:0.215205\n",
            "[23]\ttrain-logloss:0.117893\ttest-logloss:0.211307\n",
            "[24]\ttrain-logloss:0.111794\ttest-logloss:0.209179\n",
            "[25]\ttrain-logloss:0.106236\ttest-logloss:0.207981\n",
            "[26]\ttrain-logloss:0.101358\ttest-logloss:0.206595\n",
            "[27]\ttrain-logloss:0.096075\ttest-logloss:0.205386\n",
            "[28]\ttrain-logloss:0.091784\ttest-logloss:0.203957\n",
            "[29]\ttrain-logloss:0.086992\ttest-logloss:0.203239\n",
            "[30]\ttrain-logloss:0.083046\ttest-logloss:0.203196\n",
            "[31]\ttrain-logloss:0.079508\ttest-logloss:0.202234\n",
            "[32]\ttrain-logloss:0.076291\ttest-logloss:0.200874\n",
            "[33]\ttrain-logloss:0.072676\ttest-logloss:0.201344\n",
            "[34]\ttrain-logloss:0.069705\ttest-logloss:0.201148\n",
            "[35]\ttrain-logloss:0.066625\ttest-logloss:0.202408\n",
            "[36]\ttrain-logloss:0.063517\ttest-logloss:0.203961\n",
            "[37]\ttrain-logloss:0.061352\ttest-logloss:0.203377\n",
            "[38]\ttrain-logloss:0.058946\ttest-logloss:0.203646\n",
            "[39]\ttrain-logloss:0.056942\ttest-logloss:0.204382\n",
            "[40]\ttrain-logloss:0.054835\ttest-logloss:0.205807\n",
            "[41]\ttrain-logloss:0.052939\ttest-logloss:0.205568\n",
            "[42]\ttrain-logloss:0.051342\ttest-logloss:0.206309\n",
            "[43]\ttrain-logloss:0.049336\ttest-logloss:0.207759\n",
            "[44]\ttrain-logloss:0.047771\ttest-logloss:0.20801\n",
            "[45]\ttrain-logloss:0.046197\ttest-logloss:0.209364\n",
            "[46]\ttrain-logloss:0.044741\ttest-logloss:0.210538\n",
            "[47]\ttrain-logloss:0.043402\ttest-logloss:0.210713\n",
            "[48]\ttrain-logloss:0.041945\ttest-logloss:0.212531\n",
            "[49]\ttrain-logloss:0.040948\ttest-logloss:0.21472\n",
            "[50]\ttrain-logloss:0.039847\ttest-logloss:0.215343\n",
            "[51]\ttrain-logloss:0.038947\ttest-logloss:0.215611\n",
            "[52]\ttrain-logloss:0.038025\ttest-logloss:0.215376\n",
            "[53]\ttrain-logloss:0.036869\ttest-logloss:0.217664\n",
            "[54]\ttrain-logloss:0.035926\ttest-logloss:0.218331\n",
            "[55]\ttrain-logloss:0.034892\ttest-logloss:0.219791\n",
            "[56]\ttrain-logloss:0.03412\ttest-logloss:0.22167\n",
            "[57]\ttrain-logloss:0.033478\ttest-logloss:0.222681\n",
            "[58]\ttrain-logloss:0.032584\ttest-logloss:0.224171\n",
            "[59]\ttrain-logloss:0.031879\ttest-logloss:0.224929\n",
            "[60]\ttrain-logloss:0.031389\ttest-logloss:0.225461\n",
            "[61]\ttrain-logloss:0.030761\ttest-logloss:0.227643\n",
            "[62]\ttrain-logloss:0.029998\ttest-logloss:0.229139\n",
            "[63]\ttrain-logloss:0.029447\ttest-logloss:0.228695\n",
            "[64]\ttrain-logloss:0.029061\ttest-logloss:0.230335\n",
            "[65]\ttrain-logloss:0.028396\ttest-logloss:0.231819\n",
            "[66]\ttrain-logloss:0.027993\ttest-logloss:0.232387\n",
            "[67]\ttrain-logloss:0.027391\ttest-logloss:0.233855\n",
            "[68]\ttrain-logloss:0.027069\ttest-logloss:0.234988\n",
            "[69]\ttrain-logloss:0.026716\ttest-logloss:0.235557\n",
            "[70]\ttrain-logloss:0.026392\ttest-logloss:0.235434\n",
            "[71]\ttrain-logloss:0.026047\ttest-logloss:0.236409\n",
            "[72]\ttrain-logloss:0.025759\ttest-logloss:0.237959\n",
            "[73]\ttrain-logloss:0.025268\ttest-logloss:0.239329\n",
            "[74]\ttrain-logloss:0.02496\ttest-logloss:0.239908\n",
            "[75]\ttrain-logloss:0.024521\ttest-logloss:0.240777\n",
            "[76]\ttrain-logloss:0.024259\ttest-logloss:0.241842\n",
            "[77]\ttrain-logloss:0.023974\ttest-logloss:0.242782\n",
            "[78]\ttrain-logloss:0.023717\ttest-logloss:0.242686\n",
            "[79]\ttrain-logloss:0.023447\ttest-logloss:0.243273\n",
            "[80]\ttrain-logloss:0.023154\ttest-logloss:0.244691\n",
            "[81]\ttrain-logloss:0.022836\ttest-logloss:0.245306\n",
            "[82]\ttrain-logloss:0.022592\ttest-logloss:0.246204\n",
            "[83]\ttrain-logloss:0.022368\ttest-logloss:0.246193\n",
            "[84]\ttrain-logloss:0.022117\ttest-logloss:0.24759\n",
            "[85]\ttrain-logloss:0.021892\ttest-logloss:0.247503\n",
            "[86]\ttrain-logloss:0.021612\ttest-logloss:0.248104\n",
            "[87]\ttrain-logloss:0.021393\ttest-logloss:0.248973\n",
            "[88]\ttrain-logloss:0.021174\ttest-logloss:0.250324\n",
            "[89]\ttrain-logloss:0.020973\ttest-logloss:0.251279\n",
            "[90]\ttrain-logloss:0.020782\ttest-logloss:0.251167\n",
            "[91]\ttrain-logloss:0.020589\ttest-logloss:0.251069\n",
            "[92]\ttrain-logloss:0.020405\ttest-logloss:0.252005\n",
            "[93]\ttrain-logloss:0.020231\ttest-logloss:0.251907\n",
            "[94]\ttrain-logloss:0.020046\ttest-logloss:0.251827\n",
            "[95]\ttrain-logloss:0.019898\ttest-logloss:0.252858\n",
            "[96]\ttrain-logloss:0.019722\ttest-logloss:0.253653\n",
            "[97]\ttrain-logloss:0.019558\ttest-logloss:0.254557\n",
            "[98]\ttrain-logloss:0.019377\ttest-logloss:0.254473\n",
            "[99]\ttrain-logloss:0.01929\ttest-logloss:0.255032\n",
            "[100]\ttrain-logloss:0.019127\ttest-logloss:0.255461\n",
            "[101]\ttrain-logloss:0.019003\ttest-logloss:0.255842\n",
            "[102]\ttrain-logloss:0.018844\ttest-logloss:0.255773\n",
            "[103]\ttrain-logloss:0.018721\ttest-logloss:0.256325\n",
            "[104]\ttrain-logloss:0.018437\ttest-logloss:0.256608\n",
            "[105]\ttrain-logloss:0.018302\ttest-logloss:0.257399\n",
            "[106]\ttrain-logloss:0.018226\ttest-logloss:0.25774\n",
            "[107]\ttrain-logloss:0.018151\ttest-logloss:0.258271\n",
            "[108]\ttrain-logloss:0.018007\ttest-logloss:0.258078\n",
            "[109]\ttrain-logloss:0.017935\ttest-logloss:0.258822\n",
            "[110]\ttrain-logloss:0.01783\ttest-logloss:0.259074\n",
            "[111]\ttrain-logloss:0.017709\ttest-logloss:0.259843\n",
            "[112]\ttrain-logloss:0.01764\ttest-logloss:0.260368\n",
            "[113]\ttrain-logloss:0.017572\ttest-logloss:0.259866\n",
            "[114]\ttrain-logloss:0.017505\ttest-logloss:0.260199\n",
            "[115]\ttrain-logloss:0.017441\ttest-logloss:0.260243\n",
            "[116]\ttrain-logloss:0.017251\ttest-logloss:0.261649\n",
            "[117]\ttrain-logloss:0.017152\ttest-logloss:0.261728\n",
            "[118]\ttrain-logloss:0.01709\ttest-logloss:0.262235\n",
            "[119]\ttrain-logloss:0.016983\ttest-logloss:0.262781\n",
            "[120]\ttrain-logloss:0.016925\ttest-logloss:0.26347\n",
            "[121]\ttrain-logloss:0.016866\ttest-logloss:0.26379\n",
            "[122]\ttrain-logloss:0.016809\ttest-logloss:0.263332\n",
            "[123]\ttrain-logloss:0.016752\ttest-logloss:0.263382\n",
            "[124]\ttrain-logloss:0.016696\ttest-logloss:0.263996\n",
            "[125]\ttrain-logloss:0.016639\ttest-logloss:0.264191\n",
            "[126]\ttrain-logloss:0.016585\ttest-logloss:0.264266\n",
            "[127]\ttrain-logloss:0.016531\ttest-logloss:0.264319\n",
            "[128]\ttrain-logloss:0.016477\ttest-logloss:0.264534\n",
            "[129]\ttrain-logloss:0.016423\ttest-logloss:0.265207\n",
            "[130]\ttrain-logloss:0.01637\ttest-logloss:0.264762\n",
            "[131]\ttrain-logloss:0.016317\ttest-logloss:0.265245\n",
            "[132]\ttrain-logloss:0.016266\ttest-logloss:0.265258\n",
            "Stopping. Best iteration:\n",
            "[32]\ttrain-logloss:0.076291\ttest-logloss:0.200874\n",
            "\n"
          ],
          "name": "stdout"
        }
      ]
    },
    {
      "cell_type": "code",
      "metadata": {
        "colab": {
          "base_uri": "https://localhost:8080/"
        },
        "id": "OMX7VTQgkpWt",
        "outputId": "86fafe61-c414-46fa-b876-3189f0b6ec1a"
      },
      "source": [
        "pred_probs = xgbmodel.predict(dtest)\n",
        "print(np.round(pred_probs[:10],3))"
      ],
      "execution_count": null,
      "outputs": [
        {
          "output_type": "stream",
          "text": [
            "[0.998 0.986 0.823 0.995 0.996 0.998 0.999 0.998 0.975 0.993]\n"
          ],
          "name": "stdout"
        }
      ]
    },
    {
      "cell_type": "code",
      "metadata": {
        "colab": {
          "base_uri": "https://localhost:8080/"
        },
        "id": "l0r0gFb1k1qb",
        "outputId": "5266b758-284e-44e2-c5a1-608e92ea1eea"
      },
      "source": [
        "preds = [1 if x>0.5 else 0 for x in pred_probs]\n",
        "len(preds)"
      ],
      "execution_count": null,
      "outputs": [
        {
          "output_type": "execute_result",
          "data": {
            "text/plain": [
              "88"
            ]
          },
          "metadata": {
            "tags": []
          },
          "execution_count": 142
        }
      ]
    },
    {
      "cell_type": "code",
      "metadata": {
        "id": "ftpwb4VbnH-H",
        "colab": {
          "base_uri": "https://localhost:8080/"
        },
        "outputId": "653c51d9-9efe-415c-95a3-a400c03df798"
      },
      "source": [
        "print(accuracy_score(y_test, preds))"
      ],
      "execution_count": null,
      "outputs": [
        {
          "output_type": "stream",
          "text": [
            "0.9318181818181818\n"
          ],
          "name": "stdout"
        }
      ]
    },
    {
      "cell_type": "code",
      "metadata": {
        "id": "LLEojNL7k-DP"
      },
      "source": [
        "from xgboost import XGBClassifier\n",
        "\n",
        "xgb_wrapper = XGBClassifier(n_estimators=400, learning_rate=0.1, max_depth=3)\n",
        "xgb_wrapper.fit(X_train, y_train)\n",
        "w_preds = xgb_wrapper.predict(X_test)\n",
        "w_pred_proba = xgb_wrapper.predict_proba(X_test)[:,1]"
      ],
      "execution_count": null,
      "outputs": []
    },
    {
      "cell_type": "code",
      "metadata": {
        "colab": {
          "base_uri": "https://localhost:8080/"
        },
        "id": "dhz6IYtGmz4y",
        "outputId": "de5430ca-8a5f-4ca1-abaf-62a2b02d65be"
      },
      "source": [
        ""
      ],
      "execution_count": null,
      "outputs": [
        {
          "output_type": "stream",
          "text": [
            "0.9318181818181818\n"
          ],
          "name": "stdout"
        }
      ]
    },
    {
      "cell_type": "code",
      "metadata": {
        "id": "QltsqElCoDsG",
        "colab": {
          "base_uri": "https://localhost:8080/"
        },
        "outputId": "18c2381e-1c75-47e6-a9ce-bb98512dd5fb"
      },
      "source": [
        "from sklearn.model_selection import GridSearchCV\n",
        "\n",
        "params = {\n",
        "    'n_estimators':[100],\n",
        "    'max_depth':[6,8,10,12],\n",
        "    'min_samples_leaf':[8,12,18],\n",
        "    'min_samples_split':[8,16,20]\n",
        "}\n",
        "# 랜덤포레스트분류기 객체 생성 후 GridSearchCV 수행\n",
        "rf_clf = RandomForestClassifier(random_state=0, n_jobs=-1)\n",
        "grid_cv = GridSearchCV(rf_clf, param_grid=params, cv=2, n_jobs=-1)\n",
        "grid_cv.fit(X_train, y_train)\n",
        "\n",
        "print(f\"최적 하이퍼 파라미터 {grid_cv.best_params_}\")\n",
        "print(f\"최고 예측 정확도 {grid_cv.best_score_}\")"
      ],
      "execution_count": null,
      "outputs": [
        {
          "output_type": "stream",
          "text": [
            "최적 하이퍼 파라미터 {'max_depth': 6, 'min_samples_leaf': 8, 'min_samples_split': 8, 'n_estimators': 100}\n",
            "최고 예측 정확도 0.9463639824861984\n"
          ],
          "name": "stdout"
        }
      ]
    },
    {
      "cell_type": "code",
      "metadata": {
        "id": "MVPAJSOqZRU1"
      },
      "source": [
        "# 위에서 얻은 최적 하이퍼 파라미터 대로 실행\n",
        "rf_clf2 = RandomForestClassifier(random_state=0, max_depth = 6, min_samples_leaf = 8, min_samples_split = 8, n_estimators = 100)\n",
        "\n",
        "rf_clf2.fit(X_train, y_train)\n",
        "# 예측\n",
        "pred2 = rf_clf2.predict(X_test)"
      ],
      "execution_count": null,
      "outputs": []
    },
    {
      "cell_type": "code",
      "metadata": {
        "id": "VWhcupo6oXvN",
        "colab": {
          "base_uri": "https://localhost:8080/"
        },
        "outputId": "c10f1a81-4abe-4eb6-fef0-2d85767eb259"
      },
      "source": [
        "# 정확도!\n",
        "print(\"정확도 : \",accuracy_score(y_test, pred2))"
      ],
      "execution_count": null,
      "outputs": [
        {
          "output_type": "stream",
          "text": [
            "정확도 :  0.9545454545454546\n"
          ],
          "name": "stdout"
        }
      ]
    },
    {
      "cell_type": "code",
      "metadata": {
        "id": "DVkC3erqShlr",
        "colab": {
          "base_uri": "https://localhost:8080/"
        },
        "outputId": "26d54cec-49ee-4d4f-eb55-04866f65508a"
      },
      "source": [
        "pred2"
      ],
      "execution_count": null,
      "outputs": [
        {
          "output_type": "execute_result",
          "data": {
            "text/plain": [
              "array([1., 1., 1., 1., 1., 1., 1., 1., 1., 1., 1., 1., 1., 1., 1., 1., 1.,\n",
              "       1., 1., 1., 1., 1., 1., 1., 1., 1., 1., 1., 1., 1., 1., 1., 1., 1.,\n",
              "       1., 1., 1., 1., 1., 1., 1., 1., 1., 1., 1., 1., 1., 1., 1., 1., 1.,\n",
              "       1., 1., 1., 1., 1., 1., 1., 1., 1., 1., 1., 1., 1., 1., 1., 1., 1.,\n",
              "       1., 1., 1., 1., 1., 1., 1., 1., 1., 1., 1., 1., 1., 1., 1., 1., 1.,\n",
              "       1., 1., 1.])"
            ]
          },
          "metadata": {
            "tags": []
          },
          "execution_count": 98
        }
      ]
    },
    {
      "cell_type": "code",
      "metadata": {
        "id": "-LrU53cietWc"
      },
      "source": [
        ""
      ],
      "execution_count": null,
      "outputs": []
    },
    {
      "cell_type": "code",
      "metadata": {
        "id": "f82gJnMQpZBE",
        "colab": {
          "base_uri": "https://localhost:8080/",
          "height": 249
        },
        "outputId": "3565094a-17b9-4ea2-e168-beaa6d7227ae"
      },
      "source": [
        "# 각 피처별 중요도를 그래프로 보여준다.\n",
        "plt.figure(figsize=(25,18))\n",
        "\n",
        "# sns.barplot(x=tdf.columns, y=dt_clf.feature_importances_)\n",
        "\n",
        "feature = []\n",
        "scoress = []\n",
        "\n",
        "\n",
        "for index, score  in enumerate(rf_clf2.feature_importances_):\n",
        "  if score > 0:\n",
        "    print(tdf.columns[index], \"  : \", score)\n",
        "    feature.append(tdf.columns[index])\n",
        "    scoress.append(score)\n",
        "\n",
        "sns.barplot(x=scoress, y=feature)\n"
      ],
      "execution_count": null,
      "outputs": [
        {
          "output_type": "error",
          "ename": "AttributeError",
          "evalue": "ignored",
          "traceback": [
            "\u001b[0;31m---------------------------------------------------------------------------\u001b[0m",
            "\u001b[0;31mAttributeError\u001b[0m                            Traceback (most recent call last)",
            "\u001b[0;32m<ipython-input-99-298d2d4944f8>\u001b[0m in \u001b[0;36m<module>\u001b[0;34m()\u001b[0m\n\u001b[1;32m     10\u001b[0m \u001b[0;32mfor\u001b[0m \u001b[0mindex\u001b[0m\u001b[0;34m,\u001b[0m \u001b[0mscore\u001b[0m  \u001b[0;32min\u001b[0m \u001b[0menumerate\u001b[0m\u001b[0;34m(\u001b[0m\u001b[0mrf_clf2\u001b[0m\u001b[0;34m.\u001b[0m\u001b[0mfeature_importances_\u001b[0m\u001b[0;34m)\u001b[0m\u001b[0;34m:\u001b[0m\u001b[0;34m\u001b[0m\u001b[0;34m\u001b[0m\u001b[0m\n\u001b[1;32m     11\u001b[0m   \u001b[0;32mif\u001b[0m \u001b[0mscore\u001b[0m \u001b[0;34m>\u001b[0m \u001b[0;36m0\u001b[0m\u001b[0;34m:\u001b[0m\u001b[0;34m\u001b[0m\u001b[0;34m\u001b[0m\u001b[0m\n\u001b[0;32m---> 12\u001b[0;31m     \u001b[0mprint\u001b[0m\u001b[0;34m(\u001b[0m\u001b[0mtdf\u001b[0m\u001b[0;34m.\u001b[0m\u001b[0mcolumns\u001b[0m\u001b[0;34m[\u001b[0m\u001b[0mindex\u001b[0m\u001b[0;34m]\u001b[0m\u001b[0;34m,\u001b[0m \u001b[0;34m\"  : \"\u001b[0m\u001b[0;34m,\u001b[0m \u001b[0mscore\u001b[0m\u001b[0;34m)\u001b[0m\u001b[0;34m\u001b[0m\u001b[0;34m\u001b[0m\u001b[0m\n\u001b[0m\u001b[1;32m     13\u001b[0m     \u001b[0mfeature\u001b[0m\u001b[0;34m.\u001b[0m\u001b[0mappend\u001b[0m\u001b[0;34m(\u001b[0m\u001b[0mtdf\u001b[0m\u001b[0;34m.\u001b[0m\u001b[0mcolumns\u001b[0m\u001b[0;34m[\u001b[0m\u001b[0mindex\u001b[0m\u001b[0;34m]\u001b[0m\u001b[0;34m)\u001b[0m\u001b[0;34m\u001b[0m\u001b[0;34m\u001b[0m\u001b[0m\n\u001b[1;32m     14\u001b[0m     \u001b[0mscoress\u001b[0m\u001b[0;34m.\u001b[0m\u001b[0mappend\u001b[0m\u001b[0;34m(\u001b[0m\u001b[0mscore\u001b[0m\u001b[0;34m)\u001b[0m\u001b[0;34m\u001b[0m\u001b[0;34m\u001b[0m\u001b[0m\n",
            "\u001b[0;31mAttributeError\u001b[0m: 'numpy.ndarray' object has no attribute 'columns'"
          ]
        },
        {
          "output_type": "display_data",
          "data": {
            "text/plain": [
              "<Figure size 1800x1296 with 0 Axes>"
            ]
          },
          "metadata": {
            "tags": []
          }
        }
      ]
    },
    {
      "cell_type": "code",
      "metadata": {
        "id": "zvb4QQaqpavF"
      },
      "source": [
        "#Removing the comma in the employee1 and 2 columns in the test dataset and replace it with empty space and convert it to float format.\n",
        "test_df.employee1 = test_df.employee1.astype('str').str.replace(\",\", \"\").astype('float')\n",
        "test_df.employee2 = test_df.employee2.astype('str').str.replace(\",\", \"\").astype('float')"
      ],
      "execution_count": null,
      "outputs": []
    },
    {
      "cell_type": "code",
      "metadata": {
        "id": "QBh5UnggoDKR"
      },
      "source": [
        "# inst_id 는 아이디일 뿐인데 평가에 사용되는 듯해서 드랍해버렸다\n",
        "test_df = test_df.drop(['inst_id'], axis=1)\n",
        "test_df = test_df.drop(['sido'], axis=1)\n",
        "test_df = test_df.drop(['instkind'], axis=1)\n",
        "\n",
        "# ownerChange의 Nan값들은 same으로 채운다. same이 241, change가 42개, NaN이 10개\n",
        "test_df['ownerChange'] = test_df['ownerChange'].fillna('same')\n",
        "\n",
        "# 오픈했는지 아닌지 OC open, close를 숫자 0,1로 바꿔준다.\n",
        "test_df['OC'] = test_df['OC'].apply(lambda x: 1 if x=='open' else 0)\n",
        "\n",
        "# String same, change를 0,1로 바꾼다.\n",
        "test_df['ownerChange'] = test_df['ownerChange'].apply(lambda x: 0 if x=='same' else 1 )\n",
        "\n",
        "# 원핫 인코딩 아주 간단한 방법\n",
        "# test_df = pd.get_dummies(test_df, columns=['sido', 'instkind'])\n",
        "\n",
        "# bedCount, employee1,2 다 그냥 평균값으로 NaN 채움.\n",
        "test_df['bedCount'] = test_df['bedCount'].fillna(test_df['bedCount'].mean()) # NaN인건 5개, \n",
        "test_df['employee1'] = test_df['employee1'].fillna(test_df['employee1'].mean())\n",
        "test_df['employee2'] = test_df['employee2'].fillna(test_df['employee1'].mean())\n",
        "test_df['openDate'] = test_df['openDate'].fillna(test_df['openDate'].mean())\n",
        "\n",
        "# 값들의 정규화. MinMaxScaler는 데이터 값을 0과 1사이 값으로 변환\n",
        "scaler = MinMaxScaler(feature_range = (0,1))\n",
        "# scaler.fit(test_df)\n",
        "test_df[test_df.columns] = scaler.fit_transform(test_df[test_df.columns])\n",
        "print(\"HI!\")\n",
        "\n",
        "train_label = test_df['OC']\n",
        "test_df = test_df.drop(['OC'], axis=1)"
      ],
      "execution_count": null,
      "outputs": []
    },
    {
      "cell_type": "code",
      "metadata": {
        "id": "wBm3D0wCq6cg"
      },
      "source": [
        "\n",
        "#     print(tdf.drop(i, axis=0, inplace=True))\n",
        "test_df.dropna(subset=['revenue1'], inplace=True)\n",
        "test_df['openDate'] = test_df['openDate'].fillna(test_df['openDate'].mean())"
      ],
      "execution_count": null,
      "outputs": []
    },
    {
      "cell_type": "code",
      "metadata": {
        "id": "a1Gfkp-apILq"
      },
      "source": [
        "pred3 = rf_clf2.predict(test_df.values)"
      ],
      "execution_count": null,
      "outputs": []
    },
    {
      "cell_type": "code",
      "metadata": {
        "id": "lqXXsLTequVZ"
      },
      "source": [
        "pred3"
      ],
      "execution_count": null,
      "outputs": []
    },
    {
      "cell_type": "code",
      "metadata": {
        "id": "ut6ReiF1tZwz"
      },
      "source": [
        ""
      ],
      "execution_count": null,
      "outputs": []
    }
  ]
}